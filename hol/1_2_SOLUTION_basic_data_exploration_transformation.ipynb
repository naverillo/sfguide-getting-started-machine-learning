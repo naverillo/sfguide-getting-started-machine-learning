{
 "cells": [
  {
   "attachments": {},
   "cell_type": "markdown",
   "id": "3b648ee8",
   "metadata": {},
   "source": [
    "# SOLUTION: Data Exploration and Feature Engineering"
   ]
  },
  {
   "attachments": {},
   "cell_type": "markdown",
   "id": "1ed15903",
   "metadata": {},
   "source": [
    "## Imports"
   ]
  },
  {
   "cell_type": "code",
   "execution_count": 1,
   "id": "7410ce0d",
   "metadata": {},
   "outputs": [],
   "source": [
    "from snowflake.snowpark.session import Session\n",
    "import snowflake.snowpark.functions as F\n",
    "\n",
    "import json\n",
    "import os"
   ]
  },
  {
   "attachments": {},
   "cell_type": "markdown",
   "id": "a1f95920",
   "metadata": {},
   "source": [
    "## Create Snowpark Session"
   ]
  },
  {
   "cell_type": "code",
   "execution_count": 2,
   "id": "d2c8fbaa",
   "metadata": {},
   "outputs": [
    {
     "name": "stdout",
     "output_type": "stream",
     "text": [
      "/Users/nicholasaverillo/Documents/MachineLearning/sfguide-getting-started-machine-learning/hol\n"
     ]
    }
   ],
   "source": [
    "os.chdir('/Users/nicholasaverillo/Documents/MachineLearning/sfguide-getting-started-machine-learning/hol/')\n",
    "print(os.getcwd())\n",
    "with open('creds.json') as f:\n",
    "    connection_parameters = json.load(f)"
   ]
  },
  {
   "cell_type": "code",
   "execution_count": 3,
   "id": "49090e02",
   "metadata": {},
   "outputs": [
    {
     "name": "stdout",
     "output_type": "stream",
     "text": [
      "Current Database and schema: \"HOL_DB\".\"PUBLIC\"\n",
      "Current Warehouse: \"HOL_WH\"\n"
     ]
    }
   ],
   "source": [
    "session = Session.builder.configs(connection_parameters).create()\n",
    "print(f\"Current Database and schema: {session.get_fully_qualified_current_schema()}\")\n",
    "print(f\"Current Warehouse: {session.get_current_warehouse()}\")"
   ]
  },
  {
   "cell_type": "code",
   "execution_count": 4,
   "id": "0c6d1672",
   "metadata": {},
   "outputs": [],
   "source": [
    "snowpark_df = session.table('APPLICATION_RECORD')"
   ]
  },
  {
   "cell_type": "code",
   "execution_count": 5,
   "id": "a6ec1fc8",
   "metadata": {},
   "outputs": [
    {
     "name": "stdout",
     "output_type": "stream",
     "text": [
      "----------------------------------------------------------------------------------------------------------------------------------------------------------------------------------------------------------------------------------------------------------------------------------------------------------------------------------------------------\n",
      "|\"ID\"     |\"CODE_GENDER\"  |\"FLAG_OWN_CAR\"  |\"FLAG_OWN_REALTY\"  |\"CNT_CHILDREN\"  |\"AMT_INCOME_TOTAL\"  |\"NAME_INCOME_TYPE\"    |\"NAME_EDUCATION_TYPE\"          |\"NAME_FAMILY_STATUS\"  |\"NAME_HOUSING_TYPE\"  |\"DAYS_BIRTH\"  |\"DAYS_EMPLOYED\"  |\"FLAG_MOBIL\"  |\"FLAG_WORK_PHONE\"  |\"FLAG_PHONE\"  |\"FLAG_EMAIL\"  |\"OCCUPATION_TYPE\"  |\"CNT_FAM_MEMBERS\"  |\n",
      "----------------------------------------------------------------------------------------------------------------------------------------------------------------------------------------------------------------------------------------------------------------------------------------------------------------------------------------------------\n",
      "|5008804  |M              |Y               |Y                  |0               |427500.0            |Working               |Higher education               |Civil marriage        |Rented apartment     |-12005        |-4542            |1             |1                  |0             |0             |NULL               |2.0                |\n",
      "|5008805  |M              |Y               |Y                  |0               |427500.0            |Working               |Higher education               |Civil marriage        |Rented apartment     |-12005        |-4542            |1             |1                  |0             |0             |NULL               |2.0                |\n",
      "|5008806  |M              |Y               |Y                  |0               |112500.0            |Working               |Secondary / secondary special  |Married               |House / apartment    |-21474        |-1134            |1             |0                  |0             |0             |Security staff     |2.0                |\n",
      "|5008808  |F              |N               |Y                  |0               |270000.0            |Commercial associate  |Secondary / secondary special  |Single / not married  |House / apartment    |-19110        |-3051            |1             |0                  |1             |1             |Sales staff        |1.0                |\n",
      "|5008809  |F              |N               |Y                  |0               |270000.0            |Commercial associate  |Secondary / secondary special  |Single / not married  |House / apartment    |-19110        |-3051            |1             |0                  |1             |1             |Sales staff        |1.0                |\n",
      "|5008810  |F              |N               |Y                  |0               |270000.0            |Commercial associate  |Secondary / secondary special  |Single / not married  |House / apartment    |-19110        |-3051            |1             |0                  |1             |1             |Sales staff        |1.0                |\n",
      "|5008811  |F              |N               |Y                  |0               |270000.0            |Commercial associate  |Secondary / secondary special  |Single / not married  |House / apartment    |-19110        |-3051            |1             |0                  |1             |1             |Sales staff        |1.0                |\n",
      "|5008812  |F              |N               |Y                  |0               |283500.0            |Pensioner             |Higher education               |Separated             |House / apartment    |-22464        |365243           |1             |0                  |0             |0             |NULL               |1.0                |\n",
      "|5008813  |F              |N               |Y                  |0               |283500.0            |Pensioner             |Higher education               |Separated             |House / apartment    |-22464        |365243           |1             |0                  |0             |0             |NULL               |1.0                |\n",
      "|5008814  |F              |N               |Y                  |0               |283500.0            |Pensioner             |Higher education               |Separated             |House / apartment    |-22464        |365243           |1             |0                  |0             |0             |NULL               |1.0                |\n",
      "----------------------------------------------------------------------------------------------------------------------------------------------------------------------------------------------------------------------------------------------------------------------------------------------------------------------------------------------------\n",
      "\n"
     ]
    }
   ],
   "source": [
    "snowpark_df.show()"
   ]
  },
  {
   "attachments": {},
   "cell_type": "markdown",
   "id": "d32517e0",
   "metadata": {},
   "source": [
    "# SOLUTION: Answer the following Questions"
   ]
  },
  {
   "cell_type": "code",
   "execution_count": 6,
   "id": "fb5b82c3",
   "metadata": {},
   "outputs": [
    {
     "data": {
      "text/plain": [
       "18"
      ]
     },
     "execution_count": 6,
     "metadata": {},
     "output_type": "execute_result"
    }
   ],
   "source": [
    "# How many variables (columns) does the dataset have?\n",
    "len(snowpark_df.columns)"
   ]
  },
  {
   "cell_type": "code",
   "execution_count": 7,
   "id": "52fa61b0",
   "metadata": {},
   "outputs": [
    {
     "data": {
      "text/plain": [
       "438557"
      ]
     },
     "execution_count": 7,
     "metadata": {},
     "output_type": "execute_result"
    }
   ],
   "source": [
    "# How many rows does the dataset have?\n",
    "snowpark_df.count()"
   ]
  },
  {
   "cell_type": "code",
   "execution_count": 8,
   "id": "0abc10df",
   "metadata": {},
   "outputs": [
    {
     "name": "stdout",
     "output_type": "stream",
     "text": [
      "---------------------\n",
      "|\"AVERAGE_INCOME\"   |\n",
      "---------------------\n",
      "|187524.2860095039  |\n",
      "---------------------\n",
      "\n"
     ]
    }
   ],
   "source": [
    "# What is the average income?\n",
    "snowpark_df.select(F.avg('AMT_INCOME_TOTAL').as_('AVERAGE_INCOME')).show()"
   ]
  },
  {
   "cell_type": "code",
   "execution_count": 9,
   "id": "bc76f382",
   "metadata": {},
   "outputs": [
    {
     "data": {
      "text/plain": [
       "55271"
      ]
     },
     "execution_count": 9,
     "metadata": {},
     "output_type": "execute_result"
    }
   ],
   "source": [
    "# How many people are Single?\n",
    "snowpark_df.filter(F.col('NAME_FAMILY_STATUS') == 'Single / not married').count()"
   ]
  },
  {
   "attachments": {},
   "cell_type": "markdown",
   "id": "158d1532",
   "metadata": {},
   "source": [
    "# SOLUTION: Create / Drop Features"
   ]
  },
  {
   "cell_type": "code",
   "execution_count": 10,
   "id": "bca4e8be",
   "metadata": {},
   "outputs": [
    {
     "name": "stdout",
     "output_type": "stream",
     "text": [
      "------------------------------------------------------------------------------------------------------------------------------------------------------------------------------------------------------------------------------------------------------------------------------------------------------------------------------------------------------------------\n",
      "|\"ID\"     |\"CODE_GENDER\"  |\"FLAG_OWN_CAR\"  |\"FLAG_OWN_REALTY\"  |\"CNT_CHILDREN\"  |\"AMT_INCOME_TOTAL\"  |\"NAME_INCOME_TYPE\"    |\"NAME_EDUCATION_TYPE\"          |\"NAME_FAMILY_STATUS\"  |\"NAME_HOUSING_TYPE\"  |\"DAYS_BIRTH\"  |\"DAYS_EMPLOYED\"  |\"FLAG_MOBIL\"  |\"FLAG_WORK_PHONE\"  |\"FLAG_PHONE\"  |\"FLAG_EMAIL\"  |\"OCCUPATION_TYPE\"  |\"CNT_FAM_MEMBERS\"  |\"WORKYEARS\"  |\n",
      "------------------------------------------------------------------------------------------------------------------------------------------------------------------------------------------------------------------------------------------------------------------------------------------------------------------------------------------------------------------\n",
      "|5008804  |M              |Y               |Y                  |0               |427500.0            |Working               |Higher education               |Civil marriage        |Rented apartment     |-12005        |-4542            |1             |1                  |0             |0             |NULL               |2.0                |12           |\n",
      "|5008805  |M              |Y               |Y                  |0               |427500.0            |Working               |Higher education               |Civil marriage        |Rented apartment     |-12005        |-4542            |1             |1                  |0             |0             |NULL               |2.0                |12           |\n",
      "|5008806  |M              |Y               |Y                  |0               |112500.0            |Working               |Secondary / secondary special  |Married               |House / apartment    |-21474        |-1134            |1             |0                  |0             |0             |Security staff     |2.0                |3            |\n",
      "|5008808  |F              |N               |Y                  |0               |270000.0            |Commercial associate  |Secondary / secondary special  |Single / not married  |House / apartment    |-19110        |-3051            |1             |0                  |1             |1             |Sales staff        |1.0                |8            |\n",
      "|5008809  |F              |N               |Y                  |0               |270000.0            |Commercial associate  |Secondary / secondary special  |Single / not married  |House / apartment    |-19110        |-3051            |1             |0                  |1             |1             |Sales staff        |1.0                |8            |\n",
      "|5008810  |F              |N               |Y                  |0               |270000.0            |Commercial associate  |Secondary / secondary special  |Single / not married  |House / apartment    |-19110        |-3051            |1             |0                  |1             |1             |Sales staff        |1.0                |8            |\n",
      "|5008811  |F              |N               |Y                  |0               |270000.0            |Commercial associate  |Secondary / secondary special  |Single / not married  |House / apartment    |-19110        |-3051            |1             |0                  |1             |1             |Sales staff        |1.0                |8            |\n",
      "|5008812  |F              |N               |Y                  |0               |283500.0            |Pensioner             |Higher education               |Separated             |House / apartment    |-22464        |365243           |1             |0                  |0             |0             |NULL               |1.0                |1000         |\n",
      "|5008813  |F              |N               |Y                  |0               |283500.0            |Pensioner             |Higher education               |Separated             |House / apartment    |-22464        |365243           |1             |0                  |0             |0             |NULL               |1.0                |1000         |\n",
      "|5008814  |F              |N               |Y                  |0               |283500.0            |Pensioner             |Higher education               |Separated             |House / apartment    |-22464        |365243           |1             |0                  |0             |0             |NULL               |1.0                |1000         |\n",
      "------------------------------------------------------------------------------------------------------------------------------------------------------------------------------------------------------------------------------------------------------------------------------------------------------------------------------------------------------------------\n",
      "\n"
     ]
    }
   ],
   "source": [
    "# Create a new feature containing the years of employment\n",
    "# Formula: Absolute Value of DAYS_EMPLOYED divided by 365 days rounded down\n",
    "snowpark_df = snowpark_df.with_column('WORKYEARS', F.floor(F.abs(F.col('DAYS_EMPLOYED')) / 365))\n",
    "snowpark_df.show()"
   ]
  },
  {
   "cell_type": "code",
   "execution_count": 11,
   "id": "fb2de473",
   "metadata": {},
   "outputs": [
    {
     "name": "stdout",
     "output_type": "stream",
     "text": [
      "------------------------------------------------------------------------------------------------------------------------------------------------------------------------------------------------------------------------------------------------------------------------------------------------------------------------------------------------\n",
      "|\"ID\"     |\"CODE_GENDER\"  |\"FLAG_OWN_CAR\"  |\"FLAG_OWN_REALTY\"  |\"CNT_CHILDREN\"  |\"AMT_INCOME_TOTAL\"  |\"NAME_INCOME_TYPE\"    |\"NAME_EDUCATION_TYPE\"          |\"NAME_FAMILY_STATUS\"  |\"NAME_HOUSING_TYPE\"  |\"DAYS_BIRTH\"  |\"FLAG_MOBIL\"  |\"FLAG_WORK_PHONE\"  |\"FLAG_PHONE\"  |\"FLAG_EMAIL\"  |\"OCCUPATION_TYPE\"  |\"CNT_FAM_MEMBERS\"  |\"WORKYEARS\"  |\n",
      "------------------------------------------------------------------------------------------------------------------------------------------------------------------------------------------------------------------------------------------------------------------------------------------------------------------------------------------------\n",
      "|5008804  |M              |Y               |Y                  |0               |427500.0            |Working               |Higher education               |Civil marriage        |Rented apartment     |-12005        |1             |1                  |0             |0             |NULL               |2.0                |12           |\n",
      "|5008805  |M              |Y               |Y                  |0               |427500.0            |Working               |Higher education               |Civil marriage        |Rented apartment     |-12005        |1             |1                  |0             |0             |NULL               |2.0                |12           |\n",
      "|5008806  |M              |Y               |Y                  |0               |112500.0            |Working               |Secondary / secondary special  |Married               |House / apartment    |-21474        |1             |0                  |0             |0             |Security staff     |2.0                |3            |\n",
      "|5008808  |F              |N               |Y                  |0               |270000.0            |Commercial associate  |Secondary / secondary special  |Single / not married  |House / apartment    |-19110        |1             |0                  |1             |1             |Sales staff        |1.0                |8            |\n",
      "|5008809  |F              |N               |Y                  |0               |270000.0            |Commercial associate  |Secondary / secondary special  |Single / not married  |House / apartment    |-19110        |1             |0                  |1             |1             |Sales staff        |1.0                |8            |\n",
      "|5008810  |F              |N               |Y                  |0               |270000.0            |Commercial associate  |Secondary / secondary special  |Single / not married  |House / apartment    |-19110        |1             |0                  |1             |1             |Sales staff        |1.0                |8            |\n",
      "|5008811  |F              |N               |Y                  |0               |270000.0            |Commercial associate  |Secondary / secondary special  |Single / not married  |House / apartment    |-19110        |1             |0                  |1             |1             |Sales staff        |1.0                |8            |\n",
      "|5008812  |F              |N               |Y                  |0               |283500.0            |Pensioner             |Higher education               |Separated             |House / apartment    |-22464        |1             |0                  |0             |0             |NULL               |1.0                |1000         |\n",
      "|5008813  |F              |N               |Y                  |0               |283500.0            |Pensioner             |Higher education               |Separated             |House / apartment    |-22464        |1             |0                  |0             |0             |NULL               |1.0                |1000         |\n",
      "|5008814  |F              |N               |Y                  |0               |283500.0            |Pensioner             |Higher education               |Separated             |House / apartment    |-22464        |1             |0                  |0             |0             |NULL               |1.0                |1000         |\n",
      "------------------------------------------------------------------------------------------------------------------------------------------------------------------------------------------------------------------------------------------------------------------------------------------------------------------------------------------------\n",
      "\n"
     ]
    }
   ],
   "source": [
    "# Drop the variable DAYS_EMPLOYED\n",
    "snowpark_df = snowpark_df.drop('DAYS_EMPLOYED')\n",
    "snowpark_df.show()"
   ]
  },
  {
   "cell_type": "code",
   "execution_count": 12,
   "id": "52b109cd",
   "metadata": {},
   "outputs": [],
   "source": [
    "session.close()"
   ]
  }
 ],
 "metadata": {
  "kernelspec": {
   "display_name": "Python 3 (ipykernel)",
   "language": "python",
   "name": "python3"
  },
  "language_info": {
   "codemirror_mode": {
    "name": "ipython",
    "version": 3
   },
   "file_extension": ".py",
   "mimetype": "text/x-python",
   "name": "python",
   "nbconvert_exporter": "python",
   "pygments_lexer": "ipython3",
   "version": "3.9.20"
  }
 },
 "nbformat": 4,
 "nbformat_minor": 5
}
