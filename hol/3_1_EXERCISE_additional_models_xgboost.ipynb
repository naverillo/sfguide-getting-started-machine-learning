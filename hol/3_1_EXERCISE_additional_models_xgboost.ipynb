{
 "cells": [
  {
   "attachments": {},
   "cell_type": "markdown",
   "id": "2e339e77",
   "metadata": {},
   "source": [
    "# EXCERCISE: Model Building, Scoring & Evaluating (XGBoost)"
   ]
  },
  {
   "attachments": {},
   "cell_type": "markdown",
   "id": "a7d72538",
   "metadata": {},
   "source": [
    "## Imports"
   ]
  },
  {
   "cell_type": "code",
   "execution_count": null,
   "id": "2cb04fd9",
   "metadata": {},
   "outputs": [],
   "source": [
    "from snowflake.snowpark.session import Session\n",
    "import snowflake.snowpark.types as T\n",
    "\n",
    "from snowflake.ml.modeling.xgboost import XGBClassifier\n",
    "from snowflake.ml.modeling.metrics import *\n",
    "\n",
    "import json\n",
    "import pandas as pd\n",
    "import seaborn as sns\n",
    "import os"
   ]
  },
  {
   "attachments": {},
   "cell_type": "markdown",
   "id": "11413743",
   "metadata": {},
   "source": [
    "## Create Snowpark Session"
   ]
  },
  {
   "cell_type": "code",
   "execution_count": null,
   "id": "25a54f72",
   "metadata": {},
   "outputs": [],
   "source": [
    "os.chdir('/Users/nicholasaverillo/Documents/MachineLearning/sfguide-getting-started-machine-learning/hol/')\n",
    "print(os.getcwd())\n",
    "with open('creds.json') as f:\n",
    "    connection_parameters = json.load(f)"
   ]
  },
  {
   "cell_type": "code",
   "execution_count": null,
   "id": "9cc080c0",
   "metadata": {},
   "outputs": [],
   "source": [
    "session = Session.builder.configs(connection_parameters).create()\n",
    "print(f\"Current Database and schema: {session.get_fully_qualified_current_schema()}\")\n",
    "print(f\"Current Warehouse: {session.get_current_warehouse()}\")"
   ]
  },
  {
   "attachments": {},
   "cell_type": "markdown",
   "id": "24d093ad",
   "metadata": {},
   "source": [
    "# Model Building"
   ]
  },
  {
   "cell_type": "code",
   "execution_count": null,
   "id": "4df6c514",
   "metadata": {},
   "outputs": [],
   "source": [
    "train_sdf = session.table('CREDIT_RISK_PREPARED_BALANCED_TRAIN')\n",
    "test_sdf = session.table('CREDIT_RISK_PREPARED_BALANCED_TEST')"
   ]
  },
  {
   "attachments": {},
   "cell_type": "markdown",
   "id": "4013286a",
   "metadata": {},
   "source": [
    "# EXERCISE: Train an XGBoost Model"
   ]
  },
  {
   "cell_type": "code",
   "execution_count": null,
   "id": "0053ffc1",
   "metadata": {},
   "outputs": [],
   "source": [
    "feature_cols = train_sdf.columns\n",
    "feature_cols.remove('TARGET')\n",
    "feature_cols.remove('ID')\n",
    "target_col = 'TARGET'\n",
    "\n",
    "##################################\n",
    "## Insert your code after this  ##\n",
    "##################################\n",
    "\n",
    "# Step 1: Fitting an XGBClassifier\n",
    "\n",
    "# Step 2: Retrieve fitted model as XGB object\n",
    "\n",
    "# Step 3: Get Feature Importance (Optional)"
   ]
  },
  {
   "attachments": {},
   "cell_type": "markdown",
   "id": "19a60347",
   "metadata": {},
   "source": [
    "# Model Scoring"
   ]
  },
  {
   "attachments": {},
   "cell_type": "markdown",
   "id": "ac6a6dfc",
   "metadata": {},
   "source": [
    "# EXERCISE: Use the fitted XGBoost Model to score a Snowpark DataFrame"
   ]
  },
  {
   "cell_type": "code",
   "execution_count": null,
   "id": "5f4c018a",
   "metadata": {},
   "outputs": [],
   "source": [
    "##################################\n",
    "## Insert your code after this  ##\n",
    "##################################\n",
    "\n",
    "# Step 1: Use the predict-function\n",
    "\n",
    "##################################\n",
    "## Insert your code before this ##\n",
    "##################################\n",
    "\n",
    "scored_sdf.write.save_as_table(table_name='YOUR_PREDICTION_DATASET', mode='overwrite')\n",
    "session.table('YOUR_PREDICTION_DATASET').show()"
   ]
  },
  {
   "cell_type": "markdown",
   "id": "4ac8698c",
   "metadata": {},
   "source": [
    "# Model Evaluation"
   ]
  },
  {
   "cell_type": "markdown",
   "id": "90d721f6",
   "metadata": {},
   "source": [
    "# EXERCISE: Evaluate model performance"
   ]
  },
  {
   "cell_type": "code",
   "execution_count": null,
   "id": "086c4932",
   "metadata": {},
   "outputs": [],
   "source": [
    "##################################\n",
    "## Insert your code after this  ##\n",
    "##################################\n",
    "\n",
    "# Step 1: Get a confusion matrix using confusion_matrix() and save it in cf_matrix\n",
    "# Step 2: Use functions like accuracy_score() to calculate accuracy, precision, recall and f1\n",
    "\n",
    "##################################\n",
    "## Insert your code before this ##\n",
    "##################################\n",
    "\n",
    "sns.heatmap(cf_matrix, annot=True, fmt='.0f', cmap='Blues')"
   ]
  },
  {
   "cell_type": "code",
   "execution_count": null,
   "id": "134c4079",
   "metadata": {},
   "outputs": [],
   "source": [
    "session.close()"
   ]
  }
 ],
 "metadata": {
  "kernelspec": {
   "display_name": "Python 3 (ipykernel)",
   "language": "python",
   "name": "python3"
  },
  "language_info": {
   "codemirror_mode": {
    "name": "ipython",
    "version": 3
   },
   "file_extension": ".py",
   "mimetype": "text/x-python",
   "name": "python",
   "nbconvert_exporter": "python",
   "pygments_lexer": "ipython3",
   "version": "3.8.16"
  }
 },
 "nbformat": 4,
 "nbformat_minor": 5
}
