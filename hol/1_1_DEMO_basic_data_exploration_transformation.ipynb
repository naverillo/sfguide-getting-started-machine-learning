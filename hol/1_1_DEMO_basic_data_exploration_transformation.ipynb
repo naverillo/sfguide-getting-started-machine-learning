{
 "cells": [
  {
   "attachments": {},
   "cell_type": "markdown",
   "id": "3b648ee8",
   "metadata": {},
   "source": [
    "# DEMO: Data Exploration and Feature Engineering"
   ]
  },
  {
   "attachments": {},
   "cell_type": "markdown",
   "id": "1ed15903",
   "metadata": {},
   "source": [
    "## Imports"
   ]
  },
  {
   "cell_type": "code",
   "execution_count": 7,
   "id": "7410ce0d",
   "metadata": {},
   "outputs": [],
   "source": [
    "from snowflake.snowpark.session import Session\n",
    "import snowflake.snowpark.functions as F\n",
    "import snowflake.snowpark.types as T\n",
    "from snowflake.snowpark.window import Window\n",
    "from snowflake.ml.modeling.preprocessing import *\n",
    "from snowflake.ml.modeling.impute import *\n",
    "\n",
    "import sys\n",
    "import json\n",
    "import pandas as pd\n",
    "import matplotlib.pyplot as plt\n",
    "import numpy as np\n",
    "import os"
   ]
  },
  {
   "attachments": {},
   "cell_type": "markdown",
   "id": "a1f95920",
   "metadata": {},
   "source": [
    "## Create Snowpark Session"
   ]
  },
  {
   "cell_type": "code",
   "execution_count": 8,
   "id": "9a7da15f",
   "metadata": {},
   "outputs": [
    {
     "name": "stdout",
     "output_type": "stream",
     "text": [
      "/Users/nicholasaverillo/Documents/MachineLearning/sfguide-getting-started-machine-learning/hol\n"
     ]
    }
   ],
   "source": [
    "os.chdir('/Users/nicholasaverillo/Documents/MachineLearning/sfguide-getting-started-machine-learning/hol/')\n",
    "print(os.getcwd())\n",
    "with open('creds.json') as f:\n",
    "    connection_parameters = json.load(f)"
   ]
  },
  {
   "cell_type": "code",
   "execution_count": 9,
   "id": "49090e02",
   "metadata": {},
   "outputs": [
    {
     "name": "stdout",
     "output_type": "stream",
     "text": [
      "Current Database and schema: \"HOL_DB\".\"PUBLIC\"\n",
      "Current Warehouse: \"HOL_WH\"\n"
     ]
    }
   ],
   "source": [
    "session = Session.builder.configs(connection_parameters).create()\n",
    "print(f\"Current Database and schema: {session.get_fully_qualified_current_schema()}\")\n",
    "print(f\"Current Warehouse: {session.get_current_warehouse()}\")"
   ]
  },
  {
   "attachments": {},
   "cell_type": "markdown",
   "id": "ba1c0c26",
   "metadata": {},
   "source": [
    "## Snowpark DataFrames vs. Pandas DataFrames"
   ]
  },
  {
   "cell_type": "code",
   "execution_count": 10,
   "id": "8e6d1164",
   "metadata": {},
   "outputs": [
    {
     "name": "stdout",
     "output_type": "stream",
     "text": [
      "<class 'pandas.core.frame.DataFrame'>\n"
     ]
    }
   ],
   "source": [
    "# Creating a Pandas DataFrame\n",
    "pandas_df = pd.read_csv('data/application_record.csv.zip')\n",
    "print(type(pandas_df))"
   ]
  },
  {
   "cell_type": "code",
   "execution_count": 11,
   "id": "623695f6",
   "metadata": {},
   "outputs": [
    {
     "name": "stdout",
     "output_type": "stream",
     "text": [
      "<class 'snowflake.snowpark.table.Table'>\n"
     ]
    }
   ],
   "source": [
    "# Creating a Snowpark DataFrame\n",
    "snowpark_df = session.table('APPLICATION_RECORD')\n",
    "print(type(snowpark_df))"
   ]
  },
  {
   "cell_type": "code",
   "execution_count": 12,
   "id": "b2d4f6b3",
   "metadata": {},
   "outputs": [
    {
     "name": "stdout",
     "output_type": "stream",
     "text": [
      "Size in MB of Pandas DataFrame in Memory:\n",
      " 251.15\n",
      "Size in MB of Snowpark DataFrame in Memory:\n",
      " 0.0\n"
     ]
    }
   ],
   "source": [
    "# Compare size\n",
    "print('Size in MB of Pandas DataFrame in Memory:\\n', np.round(sys.getsizeof(pandas_df) / (1024.0**2), 2))\n",
    "print('Size in MB of Snowpark DataFrame in Memory:\\n', np.round(sys.getsizeof(snowpark_df) / (1024.0**2), 2))"
   ]
  },
  {
   "attachments": {},
   "cell_type": "markdown",
   "id": "03ea0fc5",
   "metadata": {},
   "source": [
    "The only thing stored in a Snowpark DataFrame is the SQL needed to return data"
   ]
  },
  {
   "cell_type": "code",
   "execution_count": 13,
   "id": "43db7633",
   "metadata": {},
   "outputs": [
    {
     "data": {
      "text/plain": [
       "{'queries': ['SELECT  *  FROM (APPLICATION_RECORD)'], 'post_actions': []}"
      ]
     },
     "execution_count": 13,
     "metadata": {},
     "output_type": "execute_result"
    }
   ],
   "source": [
    "snowpark_df.queries"
   ]
  },
  {
   "attachments": {},
   "cell_type": "markdown",
   "id": "d3cf44c3",
   "metadata": {},
   "source": [
    "A Snowpark DataFrame can be converted to a Pandas DataFrame. This will pull the data from Snowflake into the Python enviroment memory."
   ]
  },
  {
   "cell_type": "code",
   "execution_count": 14,
   "id": "e1ec1ddc",
   "metadata": {},
   "outputs": [],
   "source": [
    "pandas_df2 = snowpark_df.to_pandas()"
   ]
  },
  {
   "attachments": {},
   "cell_type": "markdown",
   "id": "a7e707de",
   "metadata": {},
   "source": [
    "Both our Pandas DataFrames has the same shape"
   ]
  },
  {
   "cell_type": "code",
   "execution_count": 15,
   "id": "db95baaf",
   "metadata": {},
   "outputs": [
    {
     "data": {
      "text/plain": [
       "((438557, 18), (438557, 18))"
      ]
     },
     "execution_count": 15,
     "metadata": {},
     "output_type": "execute_result"
    }
   ],
   "source": [
    "pandas_df.shape, pandas_df2.shape"
   ]
  },
  {
   "attachments": {},
   "cell_type": "markdown",
   "id": "327f42bc",
   "metadata": {},
   "source": [
    "Showing a Snowpark DataFrame"
   ]
  },
  {
   "cell_type": "code",
   "execution_count": 16,
   "id": "aa02b8e8",
   "metadata": {},
   "outputs": [
    {
     "data": {
      "text/html": [
       "<div>\n",
       "<style scoped>\n",
       "    .dataframe tbody tr th:only-of-type {\n",
       "        vertical-align: middle;\n",
       "    }\n",
       "\n",
       "    .dataframe tbody tr th {\n",
       "        vertical-align: top;\n",
       "    }\n",
       "\n",
       "    .dataframe thead th {\n",
       "        text-align: right;\n",
       "    }\n",
       "</style>\n",
       "<table border=\"1\" class=\"dataframe\">\n",
       "  <thead>\n",
       "    <tr style=\"text-align: right;\">\n",
       "      <th></th>\n",
       "      <th>ID</th>\n",
       "      <th>CODE_GENDER</th>\n",
       "      <th>FLAG_OWN_CAR</th>\n",
       "      <th>FLAG_OWN_REALTY</th>\n",
       "      <th>CNT_CHILDREN</th>\n",
       "      <th>AMT_INCOME_TOTAL</th>\n",
       "      <th>NAME_INCOME_TYPE</th>\n",
       "      <th>NAME_EDUCATION_TYPE</th>\n",
       "      <th>NAME_FAMILY_STATUS</th>\n",
       "      <th>NAME_HOUSING_TYPE</th>\n",
       "      <th>DAYS_BIRTH</th>\n",
       "      <th>DAYS_EMPLOYED</th>\n",
       "      <th>FLAG_MOBIL</th>\n",
       "      <th>FLAG_WORK_PHONE</th>\n",
       "      <th>FLAG_PHONE</th>\n",
       "      <th>FLAG_EMAIL</th>\n",
       "      <th>OCCUPATION_TYPE</th>\n",
       "      <th>CNT_FAM_MEMBERS</th>\n",
       "    </tr>\n",
       "  </thead>\n",
       "  <tbody>\n",
       "    <tr>\n",
       "      <th>0</th>\n",
       "      <td>5008804</td>\n",
       "      <td>M</td>\n",
       "      <td>Y</td>\n",
       "      <td>Y</td>\n",
       "      <td>0</td>\n",
       "      <td>427500.0</td>\n",
       "      <td>Working</td>\n",
       "      <td>Higher education</td>\n",
       "      <td>Civil marriage</td>\n",
       "      <td>Rented apartment</td>\n",
       "      <td>-12005</td>\n",
       "      <td>-4542</td>\n",
       "      <td>1</td>\n",
       "      <td>1</td>\n",
       "      <td>0</td>\n",
       "      <td>0</td>\n",
       "      <td>None</td>\n",
       "      <td>2.0</td>\n",
       "    </tr>\n",
       "    <tr>\n",
       "      <th>1</th>\n",
       "      <td>5008805</td>\n",
       "      <td>M</td>\n",
       "      <td>Y</td>\n",
       "      <td>Y</td>\n",
       "      <td>0</td>\n",
       "      <td>427500.0</td>\n",
       "      <td>Working</td>\n",
       "      <td>Higher education</td>\n",
       "      <td>Civil marriage</td>\n",
       "      <td>Rented apartment</td>\n",
       "      <td>-12005</td>\n",
       "      <td>-4542</td>\n",
       "      <td>1</td>\n",
       "      <td>1</td>\n",
       "      <td>0</td>\n",
       "      <td>0</td>\n",
       "      <td>None</td>\n",
       "      <td>2.0</td>\n",
       "    </tr>\n",
       "    <tr>\n",
       "      <th>2</th>\n",
       "      <td>5008806</td>\n",
       "      <td>M</td>\n",
       "      <td>Y</td>\n",
       "      <td>Y</td>\n",
       "      <td>0</td>\n",
       "      <td>112500.0</td>\n",
       "      <td>Working</td>\n",
       "      <td>Secondary / secondary special</td>\n",
       "      <td>Married</td>\n",
       "      <td>House / apartment</td>\n",
       "      <td>-21474</td>\n",
       "      <td>-1134</td>\n",
       "      <td>1</td>\n",
       "      <td>0</td>\n",
       "      <td>0</td>\n",
       "      <td>0</td>\n",
       "      <td>Security staff</td>\n",
       "      <td>2.0</td>\n",
       "    </tr>\n",
       "    <tr>\n",
       "      <th>3</th>\n",
       "      <td>5008808</td>\n",
       "      <td>F</td>\n",
       "      <td>N</td>\n",
       "      <td>Y</td>\n",
       "      <td>0</td>\n",
       "      <td>270000.0</td>\n",
       "      <td>Commercial associate</td>\n",
       "      <td>Secondary / secondary special</td>\n",
       "      <td>Single / not married</td>\n",
       "      <td>House / apartment</td>\n",
       "      <td>-19110</td>\n",
       "      <td>-3051</td>\n",
       "      <td>1</td>\n",
       "      <td>0</td>\n",
       "      <td>1</td>\n",
       "      <td>1</td>\n",
       "      <td>Sales staff</td>\n",
       "      <td>1.0</td>\n",
       "    </tr>\n",
       "    <tr>\n",
       "      <th>4</th>\n",
       "      <td>5008809</td>\n",
       "      <td>F</td>\n",
       "      <td>N</td>\n",
       "      <td>Y</td>\n",
       "      <td>0</td>\n",
       "      <td>270000.0</td>\n",
       "      <td>Commercial associate</td>\n",
       "      <td>Secondary / secondary special</td>\n",
       "      <td>Single / not married</td>\n",
       "      <td>House / apartment</td>\n",
       "      <td>-19110</td>\n",
       "      <td>-3051</td>\n",
       "      <td>1</td>\n",
       "      <td>0</td>\n",
       "      <td>1</td>\n",
       "      <td>1</td>\n",
       "      <td>Sales staff</td>\n",
       "      <td>1.0</td>\n",
       "    </tr>\n",
       "  </tbody>\n",
       "</table>\n",
       "</div>"
      ],
      "text/plain": [
       "        ID CODE_GENDER FLAG_OWN_CAR FLAG_OWN_REALTY  CNT_CHILDREN  \\\n",
       "0  5008804           M            Y               Y             0   \n",
       "1  5008805           M            Y               Y             0   \n",
       "2  5008806           M            Y               Y             0   \n",
       "3  5008808           F            N               Y             0   \n",
       "4  5008809           F            N               Y             0   \n",
       "\n",
       "   AMT_INCOME_TOTAL      NAME_INCOME_TYPE            NAME_EDUCATION_TYPE  \\\n",
       "0          427500.0               Working               Higher education   \n",
       "1          427500.0               Working               Higher education   \n",
       "2          112500.0               Working  Secondary / secondary special   \n",
       "3          270000.0  Commercial associate  Secondary / secondary special   \n",
       "4          270000.0  Commercial associate  Secondary / secondary special   \n",
       "\n",
       "     NAME_FAMILY_STATUS  NAME_HOUSING_TYPE  DAYS_BIRTH  DAYS_EMPLOYED  \\\n",
       "0        Civil marriage   Rented apartment      -12005          -4542   \n",
       "1        Civil marriage   Rented apartment      -12005          -4542   \n",
       "2               Married  House / apartment      -21474          -1134   \n",
       "3  Single / not married  House / apartment      -19110          -3051   \n",
       "4  Single / not married  House / apartment      -19110          -3051   \n",
       "\n",
       "   FLAG_MOBIL  FLAG_WORK_PHONE  FLAG_PHONE  FLAG_EMAIL OCCUPATION_TYPE  \\\n",
       "0           1                1           0           0            None   \n",
       "1           1                1           0           0            None   \n",
       "2           1                0           0           0  Security staff   \n",
       "3           1                0           1           1     Sales staff   \n",
       "4           1                0           1           1     Sales staff   \n",
       "\n",
       "   CNT_FAM_MEMBERS  \n",
       "0              2.0  \n",
       "1              2.0  \n",
       "2              2.0  \n",
       "3              1.0  \n",
       "4              1.0  "
      ]
     },
     "execution_count": 16,
     "metadata": {},
     "output_type": "execute_result"
    }
   ],
   "source": [
    "# snowpark_df.show() <- also possible\n",
    "snowpark_df.limit(5).to_pandas() # <- collects first 5 rows and displays as pandas-dataframe"
   ]
  },
  {
   "attachments": {},
   "cell_type": "markdown",
   "id": "de7848e9",
   "metadata": {},
   "source": [
    "## Simple Transformations\n",
    "Select specific columns"
   ]
  },
  {
   "cell_type": "code",
   "execution_count": 17,
   "id": "79a577f5",
   "metadata": {},
   "outputs": [
    {
     "name": "stdout",
     "output_type": "stream",
     "text": [
      "-------------------------------------------------------\n",
      "|\"CODE_GENDER\"  |\"NAME_INCOME_TYPE\"    |\"DAYS_BIRTH\"  |\n",
      "-------------------------------------------------------\n",
      "|M              |Working               |-12005        |\n",
      "|M              |Working               |-12005        |\n",
      "|M              |Working               |-21474        |\n",
      "|F              |Commercial associate  |-19110        |\n",
      "|F              |Commercial associate  |-19110        |\n",
      "|F              |Commercial associate  |-19110        |\n",
      "|F              |Commercial associate  |-19110        |\n",
      "|F              |Pensioner             |-22464        |\n",
      "|F              |Pensioner             |-22464        |\n",
      "|F              |Pensioner             |-22464        |\n",
      "-------------------------------------------------------\n",
      "\n"
     ]
    }
   ],
   "source": [
    "# snowpark_df = snowpark_df.select('CODE_GENDER','NAME_INCOME_TYPE','DAYS_BIRTH',)\n",
    "snowpark_df = snowpark_df[['CODE_GENDER','NAME_INCOME_TYPE','DAYS_BIRTH']] # -> pandas-like selection\n",
    "snowpark_df.show()"
   ]
  },
  {
   "attachments": {},
   "cell_type": "markdown",
   "id": "16c88906",
   "metadata": {},
   "source": [
    "To add a new column to a Snowpark DataFrame the **with_column** method can be used.  \n",
    "In below example we are adding a neew column, AGE, that calculates the number of years that DAYS_BIRTH is."
   ]
  },
  {
   "cell_type": "code",
   "execution_count": 18,
   "id": "e207ac8f",
   "metadata": {},
   "outputs": [
    {
     "name": "stdout",
     "output_type": "stream",
     "text": [
      "---------------------------------------------------------------\n",
      "|\"CODE_GENDER\"  |\"NAME_INCOME_TYPE\"    |\"DAYS_BIRTH\"  |\"AGE\"  |\n",
      "---------------------------------------------------------------\n",
      "|M              |Working               |-12005        |32     |\n",
      "|M              |Working               |-12005        |32     |\n",
      "|M              |Working               |-21474        |58     |\n",
      "|F              |Commercial associate  |-19110        |52     |\n",
      "|F              |Commercial associate  |-19110        |52     |\n",
      "|F              |Commercial associate  |-19110        |52     |\n",
      "|F              |Commercial associate  |-19110        |52     |\n",
      "|F              |Pensioner             |-22464        |61     |\n",
      "|F              |Pensioner             |-22464        |61     |\n",
      "|F              |Pensioner             |-22464        |61     |\n",
      "---------------------------------------------------------------\n",
      "\n"
     ]
    }
   ],
   "source": [
    "# Create a new column\n",
    "# Formula: Absolute Value of DAYS_BIRTH divided by 365 days rounded down\n",
    "snowpark_df = snowpark_df.with_column('AGE', F.floor(F.abs(F.col('DAYS_BIRTH')) / 365))\n",
    "snowpark_df.show()"
   ]
  },
  {
   "attachments": {},
   "cell_type": "markdown",
   "id": "ed4eabd5",
   "metadata": {},
   "source": [
    "If we do not want to use specific columns we can use **drop** to remove those from a Snowpark DataFrame.  \n",
    "**Note:** This is not removing them from the underlying table."
   ]
  },
  {
   "cell_type": "code",
   "execution_count": 19,
   "id": "8b6057de",
   "metadata": {},
   "outputs": [
    {
     "name": "stdout",
     "output_type": "stream",
     "text": [
      "------------------------------------------------\n",
      "|\"CODE_GENDER\"  |\"NAME_INCOME_TYPE\"    |\"AGE\"  |\n",
      "------------------------------------------------\n",
      "|M              |Working               |32     |\n",
      "|M              |Working               |32     |\n",
      "|M              |Working               |58     |\n",
      "|F              |Commercial associate  |52     |\n",
      "|F              |Commercial associate  |52     |\n",
      "|F              |Commercial associate  |52     |\n",
      "|F              |Commercial associate  |52     |\n",
      "|F              |Pensioner             |61     |\n",
      "|F              |Pensioner             |61     |\n",
      "|F              |Pensioner             |61     |\n",
      "------------------------------------------------\n",
      "\n"
     ]
    }
   ],
   "source": [
    "# Drop a column\n",
    "snowpark_df = snowpark_df.drop('DAYS_BIRTH')\n",
    "snowpark_df.show()"
   ]
  },
  {
   "attachments": {},
   "cell_type": "markdown",
   "id": "ea617ddf",
   "metadata": {},
   "source": [
    "To filter/select specific rows we use **filter**"
   ]
  },
  {
   "cell_type": "code",
   "execution_count": 20,
   "id": "7abe304d",
   "metadata": {},
   "outputs": [
    {
     "name": "stdout",
     "output_type": "stream",
     "text": [
      "----------------------------------------------\n",
      "|\"CODE_GENDER\"  |\"NAME_INCOME_TYPE\"  |\"AGE\"  |\n",
      "----------------------------------------------\n",
      "|F              |Pensioner           |61     |\n",
      "|F              |Pensioner           |61     |\n",
      "|F              |Pensioner           |61     |\n",
      "|F              |Pensioner           |55     |\n",
      "|F              |Pensioner           |61     |\n",
      "|F              |Pensioner           |61     |\n",
      "|F              |Pensioner           |61     |\n",
      "|F              |Pensioner           |61     |\n",
      "|F              |Pensioner           |61     |\n",
      "|F              |Pensioner           |61     |\n",
      "----------------------------------------------\n",
      "\n"
     ]
    }
   ],
   "source": [
    "# Filter data\n",
    "snowpark_df = snowpark_df.filter(F.col('NAME_INCOME_TYPE').in_(['Pensioner','Student']))\n",
    "snowpark_df.show()"
   ]
  },
  {
   "attachments": {},
   "cell_type": "markdown",
   "id": "cbc21227",
   "metadata": {},
   "source": [
    "To aggregate data the **group_by** method are used in combination with the **agg** method."
   ]
  },
  {
   "cell_type": "code",
   "execution_count": 21,
   "id": "1a56c822",
   "metadata": {},
   "outputs": [
    {
     "name": "stdout",
     "output_type": "stream",
     "text": [
      "--------------------------------------------------\n",
      "|\"CODE_GENDER\"  |\"NAME_INCOME_TYPE\"  |\"AVG_AGE\"  |\n",
      "--------------------------------------------------\n",
      "|F              |Pensioner           |59.188624  |\n",
      "|M              |Pensioner           |57.685482  |\n",
      "|F              |Student             |46.090909  |\n",
      "|M              |Student             |27.166667  |\n",
      "--------------------------------------------------\n",
      "\n"
     ]
    }
   ],
   "source": [
    "snowpark_df = snowpark_df.group_by(['CODE_GENDER','NAME_INCOME_TYPE']).agg([F.avg('AGE').as_('AVG_AGE')])\n",
    "snowpark_df.show()"
   ]
  },
  {
   "attachments": {},
   "cell_type": "markdown",
   "id": "11a1235e",
   "metadata": {},
   "source": [
    "To sort the data in the dataframe **sort** is used."
   ]
  },
  {
   "cell_type": "code",
   "execution_count": 22,
   "id": "2196027d",
   "metadata": {},
   "outputs": [
    {
     "name": "stdout",
     "output_type": "stream",
     "text": [
      "--------------------------------------------------\n",
      "|\"CODE_GENDER\"  |\"NAME_INCOME_TYPE\"  |\"AVG_AGE\"  |\n",
      "--------------------------------------------------\n",
      "|F              |Pensioner           |59.188624  |\n",
      "|M              |Pensioner           |57.685482  |\n",
      "|F              |Student             |46.090909  |\n",
      "|M              |Student             |27.166667  |\n",
      "--------------------------------------------------\n",
      "\n"
     ]
    }
   ],
   "source": [
    "# Sort data\n",
    "snowpark_df = snowpark_df.sort(F.col('AVG_AGE').desc())\n",
    "snowpark_df.show()"
   ]
  },
  {
   "attachments": {},
   "cell_type": "markdown",
   "id": "8c5f63dc",
   "metadata": {},
   "source": [
    "## Simple Data Analysis\n",
    "In this section we will use API Snowpark to do some basic analysis of our data.  \n",
    "Start by creating a new Snowpark DataFrame"
   ]
  },
  {
   "cell_type": "code",
   "execution_count": 23,
   "id": "9f2173fb",
   "metadata": {},
   "outputs": [],
   "source": [
    "# Creating a Snowpark DataFrame\n",
    "snowpark_df = session.table('APPLICATION_RECORD')"
   ]
  },
  {
   "attachments": {},
   "cell_type": "markdown",
   "id": "b7e32fd8",
   "metadata": {},
   "source": [
    "The **count** method on a DataFrame will return the number of rows"
   ]
  },
  {
   "cell_type": "code",
   "execution_count": 24,
   "id": "4d4433a5",
   "metadata": {},
   "outputs": [
    {
     "data": {
      "text/plain": [
       "438557"
      ]
     },
     "execution_count": 24,
     "metadata": {},
     "output_type": "execute_result"
    }
   ],
   "source": [
    "# Number of rows in dataset\n",
    "snowpark_df.count()"
   ]
  },
  {
   "attachments": {},
   "cell_type": "markdown",
   "id": "5150f9f8",
   "metadata": {},
   "source": [
    "If we want to filter out duplicated rows, keeping only one, we can use the **drop_duplicates** method."
   ]
  },
  {
   "cell_type": "code",
   "execution_count": 25,
   "id": "bba56dd6",
   "metadata": {},
   "outputs": [
    {
     "data": {
      "text/plain": [
       "438510"
      ]
     },
     "execution_count": 25,
     "metadata": {},
     "output_type": "execute_result"
    }
   ],
   "source": [
    "# Lets drop duplicates based on ID\n",
    "snowpark_df = snowpark_df.drop_duplicates('ID')\n",
    "snowpark_df.count()"
   ]
  },
  {
   "attachments": {},
   "cell_type": "markdown",
   "id": "ae98139b",
   "metadata": {},
   "source": [
    "Duplicated rows are only filtered and we can see the logic for it by examining the SQL for the DataFrame, using ['queries'][0] will return the first SQL statement for the DataFrame"
   ]
  },
  {
   "cell_type": "code",
   "execution_count": 26,
   "id": "2f3846b7",
   "metadata": {},
   "outputs": [
    {
     "name": "stdout",
     "output_type": "stream",
     "text": [
      "SELECT \"ID\", \"CODE_GENDER\", \"FLAG_OWN_CAR\", \"FLAG_OWN_REALTY\", \"CNT_CHILDREN\", \"AMT_INCOME_TOTAL\", \"NAME_INCOME_TYPE\", \"NAME_EDUCATION_TYPE\", \"NAME_FAMILY_STATUS\", \"NAME_HOUSING_TYPE\", \"DAYS_BIRTH\", \"DAYS_EMPLOYED\", \"FLAG_MOBIL\", \"FLAG_WORK_PHONE\", \"FLAG_PHONE\", \"FLAG_EMAIL\", \"OCCUPATION_TYPE\", \"CNT_FAM_MEMBERS\" FROM ( SELECT \"ID\", \"CODE_GENDER\", \"FLAG_OWN_CAR\", \"FLAG_OWN_REALTY\", \"CNT_CHILDREN\", \"AMT_INCOME_TOTAL\", \"NAME_INCOME_TYPE\", \"NAME_EDUCATION_TYPE\", \"NAME_FAMILY_STATUS\", \"NAME_HOUSING_TYPE\", \"DAYS_BIRTH\", \"DAYS_EMPLOYED\", \"FLAG_MOBIL\", \"FLAG_WORK_PHONE\", \"FLAG_PHONE\", \"FLAG_EMAIL\", \"OCCUPATION_TYPE\", \"CNT_FAM_MEMBERS\", row_number() OVER (PARTITION BY \"ID\"  ORDER BY \"ID\" ASC NULLS FIRST ) AS \"HKRGQD0JXU\" FROM APPLICATION_RECORD) WHERE (\"HKRGQD0JXU\" = 1 :: INT)\n"
     ]
    }
   ],
   "source": [
    "print(snowpark_df.queries['queries'][0])"
   ]
  },
  {
   "attachments": {},
   "cell_type": "markdown",
   "id": "00849069",
   "metadata": {},
   "source": [
    "Using the **describe** method will return some basic statistics for all numeric and string columns."
   ]
  },
  {
   "cell_type": "code",
   "execution_count": 27,
   "id": "3ff508f7",
   "metadata": {},
   "outputs": [
    {
     "name": "stdout",
     "output_type": "stream",
     "text": [
      "--------------------------------------------------------------------------------------------------------------------------------------------------------------------------------------------------------------------------------------------------------------------------------------------------------------------------------------------------------------------------------------------------------\n",
      "|\"SUMMARY\"  |\"ID\"               |\"CODE_GENDER\"  |\"FLAG_OWN_CAR\"  |\"FLAG_OWN_REALTY\"  |\"CNT_CHILDREN\"      |\"AMT_INCOME_TOTAL\"  |\"NAME_INCOME_TYPE\"    |\"NAME_EDUCATION_TYPE\"          |\"NAME_FAMILY_STATUS\"  |\"NAME_HOUSING_TYPE\"  |\"DAYS_BIRTH\"       |\"DAYS_EMPLOYED\"     |\"FLAG_MOBIL\"  |\"FLAG_WORK_PHONE\"   |\"FLAG_PHONE\"         |\"FLAG_EMAIL\"        |\"OCCUPATION_TYPE\"     |\"CNT_FAM_MEMBERS\"   |\n",
      "--------------------------------------------------------------------------------------------------------------------------------------------------------------------------------------------------------------------------------------------------------------------------------------------------------------------------------------------------------------------------------------------------------\n",
      "|min        |5008804.0          |F              |N               |N                  |0.0                 |26100.0             |Commercial associate  |Academic degree                |Civil marriage        |Co-op apartment      |-25201.0           |-17531.0            |1.0           |0.0                 |0.0                  |0.0                 |Accountants           |1.0                 |\n",
      "|stddev     |571496.2397764492  |NULL           |NULL            |NULL               |0.7248737821165834  |110089.27958266287  |NULL                  |NULL                           |NULL                  |NULL                 |4185.016222145262  |138770.07283492736  |0.0           |0.4045231760974889  |0.45272397771710743  |0.3106332242372023  |NULL                  |0.8971920109742918  |\n",
      "|count      |438510.0           |438510         |438510          |438510             |438510.0            |438510.0            |438510                |438510                         |438510                |438510               |438510.0           |438510.0            |438510.0      |438510.0            |438510.0             |438510.0            |304317                |438510.0            |\n",
      "|mean       |6022034.963688     |NULL           |NULL            |NULL               |0.427381            |187525.4157247725   |NULL                  |NULL                           |NULL                  |NULL                 |-15998.022996      |60566.188769        |1.0           |0.206128            |0.28777              |0.1082              |NULL                  |2.1944630681170327  |\n",
      "|max        |7999952.0          |M              |Y               |Y                  |19.0                |6750000.0           |Working               |Secondary / secondary special  |Widow                 |With parents         |-7489.0            |365243.0            |1.0           |1.0                 |1.0                  |1.0                 |Waiters/barmen staff  |20.0                |\n",
      "--------------------------------------------------------------------------------------------------------------------------------------------------------------------------------------------------------------------------------------------------------------------------------------------------------------------------------------------------------------------------------------------------------\n",
      "\n"
     ]
    }
   ],
   "source": [
    "# Calculating various statistics per column\n",
    "snowpark_df.describe().show()"
   ]
  },
  {
   "attachments": {},
   "cell_type": "markdown",
   "id": "d8b0fef7",
   "metadata": {},
   "source": [
    "Using **group_by** and **agg** alows us to calculate the mean value of AMT_INCOME_TOTAL by NAME_INCOME_TYPE and CODE_GENDER. Using **sort** to return the data ordered by NAME_INCOME_TYPE in ascending order and AVG_INCOME by descending order."
   ]
  },
  {
   "cell_type": "code",
   "execution_count": 28,
   "id": "9fefe311",
   "metadata": {},
   "outputs": [
    {
     "name": "stdout",
     "output_type": "stream",
     "text": [
      "-------------------------------------------------------------\n",
      "|\"NAME_INCOME_TYPE\"    |\"CODE_GENDER\"  |\"AVG_INCOME\"        |\n",
      "-------------------------------------------------------------\n",
      "|Commercial associate  |M              |249208.08642289176  |\n",
      "|Commercial associate  |F              |206579.17463258584  |\n",
      "|Pensioner             |M              |169049.77416737832  |\n",
      "|Pensioner             |F              |150729.61255448588  |\n",
      "|State servant         |M              |237034.15414285715  |\n",
      "|State servant         |F              |186152.9842904419   |\n",
      "|Student               |F              |165272.72727272726  |\n",
      "|Student               |M              |149250.0            |\n",
      "|Working               |M              |202170.82427397132  |\n",
      "|Working               |F              |168679.56899413437  |\n",
      "-------------------------------------------------------------\n",
      "\n"
     ]
    }
   ],
   "source": [
    "# Average Income per Income Type and Gender\n",
    "analysis_df = snowpark_df.group_by(['NAME_INCOME_TYPE','CODE_GENDER']).agg([F.mean('AMT_INCOME_TOTAL').as_('AVG_INCOME')])\n",
    "analysis_df = analysis_df.sort('NAME_INCOME_TYPE', F.col('AVG_INCOME').desc())\n",
    "analysis_df.show()"
   ]
  },
  {
   "attachments": {},
   "cell_type": "markdown",
   "id": "32f3d751",
   "metadata": {},
   "source": [
    "We can use the SimpleImputer in snowflake.ml.preprocessing to replace missing values with the most frequent."
   ]
  },
  {
   "cell_type": "code",
   "execution_count": 29,
   "id": "61273d48",
   "metadata": {},
   "outputs": [
    {
     "name": "stdout",
     "output_type": "stream",
     "text": [
      "--------------------------------------------------------------------------------------------------------------------------------------------------------------------------------------------------------------------------------------------------------------------------------------------------------------------------------------------------------------------------------------------------------\n",
      "|\"SUMMARY\"  |\"OCCUPATION_TYPE\"     |\"ID\"               |\"CODE_GENDER\"  |\"FLAG_OWN_CAR\"  |\"FLAG_OWN_REALTY\"  |\"CNT_CHILDREN\"      |\"AMT_INCOME_TOTAL\"  |\"NAME_INCOME_TYPE\"    |\"NAME_EDUCATION_TYPE\"          |\"NAME_FAMILY_STATUS\"  |\"NAME_HOUSING_TYPE\"  |\"DAYS_BIRTH\"       |\"DAYS_EMPLOYED\"     |\"FLAG_MOBIL\"  |\"FLAG_WORK_PHONE\"   |\"FLAG_PHONE\"         |\"FLAG_EMAIL\"        |\"CNT_FAM_MEMBERS\"   |\n",
      "--------------------------------------------------------------------------------------------------------------------------------------------------------------------------------------------------------------------------------------------------------------------------------------------------------------------------------------------------------------------------------------------------------\n",
      "|min        |Accountants           |5008804.0          |F              |N               |N                  |0.0                 |26100.0             |Commercial associate  |Academic degree                |Civil marriage        |Co-op apartment      |-25201.0           |-17531.0            |1.0           |0.0                 |0.0                  |0.0                 |1.0                 |\n",
      "|count      |438510                |438510.0           |438510         |438510          |438510             |438510.0            |438510.0            |438510                |438510                         |438510                |438510               |438510.0           |438510.0            |438510.0      |438510.0            |438510.0             |438510.0            |438510.0            |\n",
      "|stddev     |NULL                  |571496.2397764492  |NULL           |NULL            |NULL               |0.7248737821165834  |110089.27958266287  |NULL                  |NULL                           |NULL                  |NULL                 |4185.016222145262  |138770.07283492736  |0.0           |0.4045231760974889  |0.45272397771710743  |0.3106332242372023  |0.8971920109742918  |\n",
      "|mean       |NULL                  |6022034.963688     |NULL           |NULL            |NULL               |0.427381            |187525.4157247725   |NULL                  |NULL                           |NULL                  |NULL                 |-15998.022996      |60566.188769        |1.0           |0.206128            |0.28777              |0.1082              |2.1944630681170327  |\n",
      "|max        |Waiters/barmen staff  |7999952.0          |M              |Y               |Y                  |19.0                |6750000.0           |Working               |Secondary / secondary special  |Widow                 |With parents         |-7489.0            |365243.0            |1.0           |1.0                 |1.0                  |1.0                 |20.0                |\n",
      "--------------------------------------------------------------------------------------------------------------------------------------------------------------------------------------------------------------------------------------------------------------------------------------------------------------------------------------------------------------------------------------------------------\n",
      "\n"
     ]
    }
   ],
   "source": [
    "my_imputer = SimpleImputer(input_cols=['OCCUPATION_TYPE'], output_cols=['OCCUPATION_TYPE'] ,strategy='most_frequent')\n",
    "my_imputer.fit(snowpark_df)\n",
    "snowpark_df = my_imputer.transform(snowpark_df)\n",
    "snowpark_df.describe().show()"
   ]
  },
  {
   "attachments": {},
   "cell_type": "markdown",
   "id": "991beaa4",
   "metadata": {},
   "source": [
    "The missing value handling logic is converted in SQL to *iff(\"OCCUPATION_TYPE\" IS NULL, 'Laborers', \"OCCUPATION_TYPE\") AS \"OCCUPATION_TYPE\"*"
   ]
  },
  {
   "cell_type": "code",
   "execution_count": 30,
   "id": "bac12f72",
   "metadata": {},
   "outputs": [
    {
     "name": "stdout",
     "output_type": "stream",
     "text": [
      "SELECT iff(\"OCCUPATION_TYPE\" IS NULL, 'Laborers', \"OCCUPATION_TYPE\") AS \"OCCUPATION_TYPE\", \"ID\", \"CODE_GENDER\", \"FLAG_OWN_CAR\", \"FLAG_OWN_REALTY\", \"CNT_CHILDREN\", \"AMT_INCOME_TOTAL\", \"NAME_INCOME_TYPE\", \"NAME_EDUCATION_TYPE\", \"NAME_FAMILY_STATUS\", \"NAME_HOUSING_TYPE\", \"DAYS_BIRTH\", \"DAYS_EMPLOYED\", \"FLAG_MOBIL\", \"FLAG_WORK_PHONE\", \"FLAG_PHONE\", \"FLAG_EMAIL\", \"CNT_FAM_MEMBERS\" FROM ( SELECT \"ID\", \"CODE_GENDER\", \"FLAG_OWN_CAR\", \"FLAG_OWN_REALTY\", \"CNT_CHILDREN\", \"AMT_INCOME_TOTAL\", \"NAME_INCOME_TYPE\", \"NAME_EDUCATION_TYPE\", \"NAME_FAMILY_STATUS\", \"NAME_HOUSING_TYPE\", \"DAYS_BIRTH\", \"DAYS_EMPLOYED\", \"FLAG_MOBIL\", \"FLAG_WORK_PHONE\", \"FLAG_PHONE\", \"FLAG_EMAIL\", \"CNT_FAM_MEMBERS\", \"OCCUPATION_TYPE\" AS \"OCCUPATION_TYPE\" FROM ( SELECT \"ID\", \"CODE_GENDER\", \"FLAG_OWN_CAR\", \"FLAG_OWN_REALTY\", \"CNT_CHILDREN\", \"AMT_INCOME_TOTAL\", \"NAME_INCOME_TYPE\", \"NAME_EDUCATION_TYPE\", \"NAME_FAMILY_STATUS\", \"NAME_HOUSING_TYPE\", \"DAYS_BIRTH\", \"DAYS_EMPLOYED\", \"FLAG_MOBIL\", \"FLAG_WORK_PHONE\", \"FLAG_PHONE\", \"FLAG_EMAIL\", \"OCCUPATION_TYPE\", \"CNT_FAM_MEMBERS\", row_number() OVER (PARTITION BY \"ID\"  ORDER BY \"ID\" ASC NULLS FIRST ) AS \"HKRGQD0JXU\" FROM APPLICATION_RECORD) WHERE (\"HKRGQD0JXU\" = 1 :: INT))\n"
     ]
    }
   ],
   "source": [
    "print(snowpark_df.queries['queries'][0])"
   ]
  },
  {
   "attachments": {},
   "cell_type": "markdown",
   "id": "5b8d26f8",
   "metadata": {},
   "source": [
    "A DataFrame always has a schema with all columns and the data types for them"
   ]
  },
  {
   "cell_type": "code",
   "execution_count": 31,
   "id": "13cca9d1",
   "metadata": {},
   "outputs": [
    {
     "data": {
      "text/plain": [
       "StructType([StructField('OCCUPATION_TYPE', StringType(16777216), nullable=True), StructField('ID', LongType(), nullable=True), StructField('CODE_GENDER', StringType(16777216), nullable=True), StructField('FLAG_OWN_CAR', StringType(16777216), nullable=True), StructField('FLAG_OWN_REALTY', StringType(16777216), nullable=True), StructField('CNT_CHILDREN', LongType(), nullable=True), StructField('AMT_INCOME_TOTAL', DoubleType(), nullable=True), StructField('NAME_INCOME_TYPE', StringType(16777216), nullable=True), StructField('NAME_EDUCATION_TYPE', StringType(16777216), nullable=True), StructField('NAME_FAMILY_STATUS', StringType(16777216), nullable=True), StructField('NAME_HOUSING_TYPE', StringType(16777216), nullable=True), StructField('DAYS_BIRTH', LongType(), nullable=True), StructField('DAYS_EMPLOYED', LongType(), nullable=True), StructField('FLAG_MOBIL', LongType(), nullable=True), StructField('FLAG_WORK_PHONE', LongType(), nullable=True), StructField('FLAG_PHONE', LongType(), nullable=True), StructField('FLAG_EMAIL', LongType(), nullable=True), StructField('CNT_FAM_MEMBERS', DoubleType(), nullable=True)])"
      ]
     },
     "execution_count": 31,
     "metadata": {},
     "output_type": "execute_result"
    }
   ],
   "source": [
    "snowpark_df.schema"
   ]
  },
  {
   "attachments": {},
   "cell_type": "markdown",
   "id": "5b2ae444",
   "metadata": {},
   "source": [
    "We can itirate through the schema to get the columns of specific data types"
   ]
  },
  {
   "cell_type": "code",
   "execution_count": 32,
   "id": "17735cdb",
   "metadata": {},
   "outputs": [
    {
     "data": {
      "text/plain": [
       "['OCCUPATION_TYPE',\n",
       " 'CODE_GENDER',\n",
       " 'FLAG_OWN_CAR',\n",
       " 'FLAG_OWN_REALTY',\n",
       " 'NAME_INCOME_TYPE',\n",
       " 'NAME_EDUCATION_TYPE',\n",
       " 'NAME_FAMILY_STATUS',\n",
       " 'NAME_HOUSING_TYPE']"
      ]
     },
     "execution_count": 32,
     "metadata": {},
     "output_type": "execute_result"
    }
   ],
   "source": [
    "# Get all categorical columns\n",
    "categorical_types = [T.StringType]\n",
    "categorical_columns = [c.name for c in snowpark_df.schema.fields if type(c.datatype) in categorical_types]\n",
    "categorical_columns"
   ]
  },
  {
   "attachments": {},
   "cell_type": "markdown",
   "id": "e1c1ba4c",
   "metadata": {},
   "source": [
    "We can then use those to loop through and get the number of unique values"
   ]
  },
  {
   "cell_type": "code",
   "execution_count": 33,
   "id": "682ae682",
   "metadata": {},
   "outputs": [
    {
     "data": {
      "text/html": [
       "<div>\n",
       "<style scoped>\n",
       "    .dataframe tbody tr th:only-of-type {\n",
       "        vertical-align: middle;\n",
       "    }\n",
       "\n",
       "    .dataframe tbody tr th {\n",
       "        vertical-align: top;\n",
       "    }\n",
       "\n",
       "    .dataframe thead th {\n",
       "        text-align: right;\n",
       "    }\n",
       "</style>\n",
       "<table border=\"1\" class=\"dataframe\">\n",
       "  <thead>\n",
       "    <tr style=\"text-align: right;\">\n",
       "      <th></th>\n",
       "      <th>COLUMN_NAME</th>\n",
       "      <th>NUM_UNIQUE_VALUES</th>\n",
       "    </tr>\n",
       "  </thead>\n",
       "  <tbody>\n",
       "    <tr>\n",
       "      <th>0</th>\n",
       "      <td>OCCUPATION_TYPE</td>\n",
       "      <td>18</td>\n",
       "    </tr>\n",
       "    <tr>\n",
       "      <th>1</th>\n",
       "      <td>CODE_GENDER</td>\n",
       "      <td>2</td>\n",
       "    </tr>\n",
       "    <tr>\n",
       "      <th>2</th>\n",
       "      <td>FLAG_OWN_CAR</td>\n",
       "      <td>2</td>\n",
       "    </tr>\n",
       "    <tr>\n",
       "      <th>3</th>\n",
       "      <td>FLAG_OWN_REALTY</td>\n",
       "      <td>2</td>\n",
       "    </tr>\n",
       "    <tr>\n",
       "      <th>4</th>\n",
       "      <td>NAME_INCOME_TYPE</td>\n",
       "      <td>5</td>\n",
       "    </tr>\n",
       "    <tr>\n",
       "      <th>5</th>\n",
       "      <td>NAME_EDUCATION_TYPE</td>\n",
       "      <td>5</td>\n",
       "    </tr>\n",
       "    <tr>\n",
       "      <th>6</th>\n",
       "      <td>NAME_FAMILY_STATUS</td>\n",
       "      <td>5</td>\n",
       "    </tr>\n",
       "    <tr>\n",
       "      <th>7</th>\n",
       "      <td>NAME_HOUSING_TYPE</td>\n",
       "      <td>6</td>\n",
       "    </tr>\n",
       "  </tbody>\n",
       "</table>\n",
       "</div>"
      ],
      "text/plain": [
       "           COLUMN_NAME  NUM_UNIQUE_VALUES\n",
       "0      OCCUPATION_TYPE                 18\n",
       "1          CODE_GENDER                  2\n",
       "2         FLAG_OWN_CAR                  2\n",
       "3      FLAG_OWN_REALTY                  2\n",
       "4     NAME_INCOME_TYPE                  5\n",
       "5  NAME_EDUCATION_TYPE                  5\n",
       "6   NAME_FAMILY_STATUS                  5\n",
       "7    NAME_HOUSING_TYPE                  6"
      ]
     },
     "execution_count": 33,
     "metadata": {},
     "output_type": "execute_result"
    }
   ],
   "source": [
    "# Number of unique values per categorical column\n",
    "unique_values = []\n",
    "for column in categorical_columns:\n",
    "    unique_values.append([column, snowpark_df.select(column).distinct().count()])\n",
    "pd.DataFrame(unique_values, columns=['COLUMN_NAME','NUM_UNIQUE_VALUES'])"
   ]
  },
  {
   "attachments": {},
   "cell_type": "markdown",
   "id": "bc3c3a6a",
   "metadata": {},
   "source": [
    "## Persist Transformations\n",
    "\n",
    "If we want to save the changes we can either save it as a table, meaning the SQL generated by the DataFrame is executed and the result is stored in a table or as a view where the DataFrame SQL will be the definition of the view.  \n",
    "**save_as_table** saves the result in a table, if **mode='overwrite'** then it will also replace the data that is in it."
   ]
  },
  {
   "cell_type": "code",
   "execution_count": 34,
   "id": "995c4a8d",
   "metadata": {},
   "outputs": [
    {
     "name": "stdout",
     "output_type": "stream",
     "text": [
      "----------------------------------------------------------------------------------------------------------------------------------------------------------------------------------------------------------------------------------------------------------------------------------------------------------------------------------------------------\n",
      "|\"OCCUPATION_TYPE\"  |\"ID\"     |\"CODE_GENDER\"  |\"FLAG_OWN_CAR\"  |\"FLAG_OWN_REALTY\"  |\"CNT_CHILDREN\"  |\"AMT_INCOME_TOTAL\"  |\"NAME_INCOME_TYPE\"    |\"NAME_EDUCATION_TYPE\"          |\"NAME_FAMILY_STATUS\"  |\"NAME_HOUSING_TYPE\"  |\"DAYS_BIRTH\"  |\"DAYS_EMPLOYED\"  |\"FLAG_MOBIL\"  |\"FLAG_WORK_PHONE\"  |\"FLAG_PHONE\"  |\"FLAG_EMAIL\"  |\"CNT_FAM_MEMBERS\"  |\n",
      "----------------------------------------------------------------------------------------------------------------------------------------------------------------------------------------------------------------------------------------------------------------------------------------------------------------------------------------------------\n",
      "|Laborers           |5628600  |F              |N               |N                  |0               |76500.0             |State servant         |Secondary / secondary special  |Married               |House / apartment    |-14922        |-3383            |1             |1                  |0             |0             |2.0                |\n",
      "|Laborers           |6569366  |M              |N               |Y                  |0               |126000.0            |State servant         |Secondary / secondary special  |Married               |House / apartment    |-8318         |-548             |1             |0                  |0             |0             |2.0                |\n",
      "|Core staff         |6754942  |F              |N               |Y                  |0               |135000.0            |Working               |Higher education               |Civil marriage        |House / apartment    |-11745        |-101             |1             |0                  |1             |0             |2.0                |\n",
      "|Sales staff        |6736592  |F              |N               |Y                  |0               |112500.0            |Commercial associate  |Secondary / secondary special  |Single / not married  |House / apartment    |-8398         |-578             |1             |1                  |1             |1             |1.0                |\n",
      "|Sales staff        |6545097  |F              |N               |Y                  |1               |112500.0            |Working               |Secondary / secondary special  |Married               |House / apartment    |-12604        |-4445            |1             |0                  |0             |0             |3.0                |\n",
      "|Core staff         |5889024  |M              |N               |Y                  |0               |202500.0            |Commercial associate  |Higher education               |Married               |House / apartment    |-11501        |-279             |1             |0                  |0             |0             |2.0                |\n",
      "|Laborers           |5451805  |F              |N               |Y                  |0               |135000.0            |Working               |Secondary / secondary special  |Married               |House / apartment    |-18833        |-1464            |1             |1                  |1             |0             |2.0                |\n",
      "|Laborers           |5474464  |F              |N               |N                  |0               |135000.0            |Pensioner             |Secondary / secondary special  |Widow                 |House / apartment    |-22064        |365243           |1             |0                  |0             |0             |1.0                |\n",
      "|Managers           |7097047  |M              |Y               |Y                  |1               |450000.0            |Working               |Secondary / secondary special  |Married               |House / apartment    |-15862        |-1463            |1             |0                  |0             |0             |3.0                |\n",
      "|Core staff         |5095310  |F              |Y               |Y                  |0               |225000.0            |Working               |Higher education               |Married               |House / apartment    |-12322        |-3717            |1             |0                  |0             |0             |2.0                |\n",
      "----------------------------------------------------------------------------------------------------------------------------------------------------------------------------------------------------------------------------------------------------------------------------------------------------------------------------------------------------\n",
      "\n"
     ]
    }
   ],
   "source": [
    "snowpark_df.write.save_as_table(table_name='MY_FIRST_ANALYSIS', mode='overwrite')\n",
    "session.table('MY_FIRST_ANALYSIS').show()"
   ]
  },
  {
   "cell_type": "code",
   "execution_count": 35,
   "id": "a4dc8b69",
   "metadata": {},
   "outputs": [],
   "source": [
    "session.close()"
   ]
  }
 ],
 "metadata": {
  "kernelspec": {
   "display_name": "Python 3 (ipykernel)",
   "language": "python",
   "name": "python3"
  },
  "language_info": {
   "codemirror_mode": {
    "name": "ipython",
    "version": 3
   },
   "file_extension": ".py",
   "mimetype": "text/x-python",
   "name": "python",
   "nbconvert_exporter": "python",
   "pygments_lexer": "ipython3",
   "version": "3.9.20"
  }
 },
 "nbformat": 4,
 "nbformat_minor": 5
}
