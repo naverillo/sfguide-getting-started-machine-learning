{
 "cells": [
  {
   "attachments": {},
   "cell_type": "markdown",
   "id": "3b648ee8",
   "metadata": {},
   "source": [
    "# DEMO: Data Exploration and Feature Engineering"
   ]
  },
  {
   "attachments": {},
   "cell_type": "markdown",
   "id": "1ed15903",
   "metadata": {},
   "source": [
    "## Imports"
   ]
  },
  {
   "cell_type": "code",
   "execution_count": null,
   "id": "7410ce0d",
   "metadata": {},
   "outputs": [],
   "source": [
    "from snowflake.snowpark.session import Session\n",
    "import snowflake.snowpark.functions as F\n",
    "import snowflake.snowpark.types as T\n",
    "from snowflake.snowpark.window import Window\n",
    "from snowflake.ml.modeling.preprocessing import *\n",
    "from snowflake.ml.modeling.impute import *\n",
    "\n",
    "import sys\n",
    "import json\n",
    "import pandas as pd\n",
    "import matplotlib.pyplot as plt\n",
    "import numpy as np"
   ]
  },
  {
   "attachments": {},
   "cell_type": "markdown",
   "id": "a1f95920",
   "metadata": {},
   "source": [
    "## Create Snowpark Session"
   ]
  },
  {
   "cell_type": "code",
   "execution_count": null,
   "id": "9a7da15f",
   "metadata": {},
   "outputs": [],
   "source": [
    "with open('creds.json') as f:\n",
    "    connection_parameters = json.load(f)"
   ]
  },
  {
   "cell_type": "code",
   "execution_count": null,
   "id": "49090e02",
   "metadata": {},
   "outputs": [],
   "source": [
    "session = Session.builder.configs(connection_parameters).create()\n",
    "print(f\"Current Database and schema: {session.get_fully_qualified_current_schema()}\")\n",
    "print(f\"Current Warehouse: {session.get_current_warehouse()}\")"
   ]
  },
  {
   "attachments": {},
   "cell_type": "markdown",
   "id": "ba1c0c26",
   "metadata": {},
   "source": [
    "## Snowpark DataFrames vs. Pandas DataFrames"
   ]
  },
  {
   "cell_type": "code",
   "execution_count": null,
   "id": "8e6d1164",
   "metadata": {},
   "outputs": [],
   "source": [
    "# Creating a Pandas DataFrame\n",
    "pandas_df = pd.read_csv('data/application_record.csv.zip')\n",
    "print(type(pandas_df))"
   ]
  },
  {
   "cell_type": "code",
   "execution_count": null,
   "id": "623695f6",
   "metadata": {},
   "outputs": [],
   "source": [
    "# Creating a Snowpark DataFrame\n",
    "snowpark_df = session.table('APPLICATION_RECORD')\n",
    "print(type(snowpark_df))"
   ]
  },
  {
   "cell_type": "code",
   "execution_count": null,
   "id": "b2d4f6b3",
   "metadata": {},
   "outputs": [],
   "source": [
    "# Compare size\n",
    "print('Size in MB of Pandas DataFrame in Memory:\\n', np.round(sys.getsizeof(pandas_df) / (1024.0**2), 2))\n",
    "print('Size in MB of Snowpark DataFrame in Memory:\\n', np.round(sys.getsizeof(snowpark_df) / (1024.0**2), 2))"
   ]
  },
  {
   "attachments": {},
   "cell_type": "markdown",
   "id": "03ea0fc5",
   "metadata": {},
   "source": [
    "The only thing stored in a Snowpark DataFrame is the SQL needed to return data"
   ]
  },
  {
   "cell_type": "code",
   "execution_count": null,
   "id": "43db7633",
   "metadata": {},
   "outputs": [],
   "source": [
    "snowpark_df.queries"
   ]
  },
  {
   "attachments": {},
   "cell_type": "markdown",
   "id": "d3cf44c3",
   "metadata": {},
   "source": [
    "A Snowpark DataFrame can be converted to a Pandas DataFrame. This will pull the data from Snowflake into the Python enviroment memory."
   ]
  },
  {
   "cell_type": "code",
   "execution_count": null,
   "id": "e1ec1ddc",
   "metadata": {},
   "outputs": [],
   "source": [
    "pandas_df2 = snowpark_df.to_pandas()"
   ]
  },
  {
   "attachments": {},
   "cell_type": "markdown",
   "id": "a7e707de",
   "metadata": {},
   "source": [
    "Both our Pandas DataFrames has the same shape"
   ]
  },
  {
   "cell_type": "code",
   "execution_count": null,
   "id": "db95baaf",
   "metadata": {},
   "outputs": [],
   "source": [
    "pandas_df.shape, pandas_df2.shape"
   ]
  },
  {
   "attachments": {},
   "cell_type": "markdown",
   "id": "327f42bc",
   "metadata": {},
   "source": [
    "Showing a Snowpark DataFrame"
   ]
  },
  {
   "cell_type": "code",
   "execution_count": null,
   "id": "aa02b8e8",
   "metadata": {},
   "outputs": [],
   "source": [
    "# snowpark_df.show() <- also possible\n",
    "snowpark_df.limit(5).to_pandas() # <- collects first 5 rows and displays as pandas-dataframe"
   ]
  },
  {
   "attachments": {},
   "cell_type": "markdown",
   "id": "de7848e9",
   "metadata": {},
   "source": [
    "## Simple Transformations\n",
    "Select specific columns"
   ]
  },
  {
   "cell_type": "code",
   "execution_count": null,
   "id": "79a577f5",
   "metadata": {},
   "outputs": [],
   "source": [
    "# snowpark_df = snowpark_df.select('CODE_GENDER','NAME_INCOME_TYPE','DAYS_BIRTH',)\n",
    "snowpark_df = snowpark_df[['CODE_GENDER','NAME_INCOME_TYPE','DAYS_BIRTH']] # -> pandas-like selection\n",
    "snowpark_df.show()"
   ]
  },
  {
   "attachments": {},
   "cell_type": "markdown",
   "id": "16c88906",
   "metadata": {},
   "source": [
    "To add a new column to a Snowpark DataFrame the **with_column** method can be used.  \n",
    "In below example we are adding a neew column, AGE, that calculates the number of years that DAYS_BIRTH is."
   ]
  },
  {
   "cell_type": "code",
   "execution_count": null,
   "id": "e207ac8f",
   "metadata": {},
   "outputs": [],
   "source": [
    "# Create a new column\n",
    "# Formula: Absolute Value of DAYS_BIRTH divided by 365 days rounded down\n",
    "snowpark_df = snowpark_df.with_column('AGE', F.floor(F.abs(F.col('DAYS_BIRTH')) / 365))\n",
    "snowpark_df.show()"
   ]
  },
  {
   "attachments": {},
   "cell_type": "markdown",
   "id": "ed4eabd5",
   "metadata": {},
   "source": [
    "If we do not want to use specific columns we can use **drop** to remove those from a Snowpark DataFrame.  \n",
    "**Note:** This is not removing them from the underlying table."
   ]
  },
  {
   "cell_type": "code",
   "execution_count": null,
   "id": "8b6057de",
   "metadata": {},
   "outputs": [],
   "source": [
    "# Drop a column\n",
    "snowpark_df = snowpark_df.drop('DAYS_BIRTH')\n",
    "snowpark_df.show()"
   ]
  },
  {
   "attachments": {},
   "cell_type": "markdown",
   "id": "ea617ddf",
   "metadata": {},
   "source": [
    "To filter/select specific rows we use **filter**"
   ]
  },
  {
   "cell_type": "code",
   "execution_count": null,
   "id": "7abe304d",
   "metadata": {},
   "outputs": [],
   "source": [
    "# Filter data\n",
    "snowpark_df = snowpark_df.filter(F.col('NAME_INCOME_TYPE').in_(['Pensioner','Student']))\n",
    "snowpark_df.show()"
   ]
  },
  {
   "attachments": {},
   "cell_type": "markdown",
   "id": "cbc21227",
   "metadata": {},
   "source": [
    "To aggregate data the **group_by** method are used in combination with the **agg** method."
   ]
  },
  {
   "cell_type": "code",
   "execution_count": null,
   "id": "1a56c822",
   "metadata": {},
   "outputs": [],
   "source": [
    "snowpark_df = snowpark_df.group_by(['CODE_GENDER','NAME_INCOME_TYPE']).agg([F.avg('AGE').as_('AVG_AGE')])\n",
    "snowpark_df.show()"
   ]
  },
  {
   "attachments": {},
   "cell_type": "markdown",
   "id": "11a1235e",
   "metadata": {},
   "source": [
    "To sort the data in the dataframe **sort** is used."
   ]
  },
  {
   "cell_type": "code",
   "execution_count": null,
   "id": "2196027d",
   "metadata": {},
   "outputs": [],
   "source": [
    "# Sort data\n",
    "snowpark_df = snowpark_df.sort(F.col('AVG_AGE').desc())\n",
    "snowpark_df.show()"
   ]
  },
  {
   "attachments": {},
   "cell_type": "markdown",
   "id": "8c5f63dc",
   "metadata": {},
   "source": [
    "## Simple Data Analysis\n",
    "In this section we will use API Snowpark to do some basic analysis of our data.  \n",
    "Start by creating a new Snowpark DataFrame"
   ]
  },
  {
   "cell_type": "code",
   "execution_count": null,
   "id": "9f2173fb",
   "metadata": {},
   "outputs": [],
   "source": [
    "# Creating a Snowpark DataFrame\n",
    "snowpark_df = session.table('APPLICATION_RECORD')"
   ]
  },
  {
   "attachments": {},
   "cell_type": "markdown",
   "id": "b7e32fd8",
   "metadata": {},
   "source": [
    "The **count** method on a DataFrame will return the number of rows"
   ]
  },
  {
   "cell_type": "code",
   "execution_count": null,
   "id": "4d4433a5",
   "metadata": {},
   "outputs": [],
   "source": [
    "# Number of rows in dataset\n",
    "snowpark_df.count()"
   ]
  },
  {
   "attachments": {},
   "cell_type": "markdown",
   "id": "5150f9f8",
   "metadata": {},
   "source": [
    "If we want to filter out duplicated rows, keeping only one, we can use the **drop_duplicates** method."
   ]
  },
  {
   "cell_type": "code",
   "execution_count": null,
   "id": "bba56dd6",
   "metadata": {},
   "outputs": [],
   "source": [
    "# Lets drop duplicates based on ID\n",
    "snowpark_df = snowpark_df.drop_duplicates('ID')\n",
    "snowpark_df.count()"
   ]
  },
  {
   "attachments": {},
   "cell_type": "markdown",
   "id": "ae98139b",
   "metadata": {},
   "source": [
    "Duplicated rows are only filtered and we can see the logic for it by examining the SQL for the DataFrame, using ['queries'][0] will return the first SQL statement for the DataFrame"
   ]
  },
  {
   "cell_type": "code",
   "execution_count": null,
   "id": "2f3846b7",
   "metadata": {},
   "outputs": [],
   "source": [
    "print(snowpark_df.queries['queries'][0])"
   ]
  },
  {
   "attachments": {},
   "cell_type": "markdown",
   "id": "00849069",
   "metadata": {},
   "source": [
    "Using the **describe** method will return some basic statistics for all numeric and string columns."
   ]
  },
  {
   "cell_type": "code",
   "execution_count": null,
   "id": "3ff508f7",
   "metadata": {},
   "outputs": [],
   "source": [
    "# Calculating various statistics per column\n",
    "snowpark_df.describe().show()"
   ]
  },
  {
   "attachments": {},
   "cell_type": "markdown",
   "id": "d8b0fef7",
   "metadata": {},
   "source": [
    "Using **group_by** and **agg** alows us to calculate the mean value of AMT_INCOME_TOTAL by NAME_INCOME_TYPE and CODE_GENDER. Using **sort** to return the data ordered by NAME_INCOME_TYPE in ascending order and AVG_INCOME by descending order."
   ]
  },
  {
   "cell_type": "code",
   "execution_count": null,
   "id": "9fefe311",
   "metadata": {},
   "outputs": [],
   "source": [
    "# Average Income per Income Type and Gender\n",
    "analysis_df = snowpark_df.group_by(['NAME_INCOME_TYPE','CODE_GENDER']).agg([F.mean('AMT_INCOME_TOTAL').as_('AVG_INCOME')])\n",
    "analysis_df = analysis_df.sort('NAME_INCOME_TYPE', F.col('AVG_INCOME').desc())\n",
    "analysis_df.show()"
   ]
  },
  {
   "attachments": {},
   "cell_type": "markdown",
   "id": "32f3d751",
   "metadata": {},
   "source": [
    "We can use the SimpleImputer in snowflake.ml.preprocessing to replace missing values with the most frequent."
   ]
  },
  {
   "cell_type": "code",
   "execution_count": null,
   "id": "61273d48",
   "metadata": {},
   "outputs": [],
   "source": [
    "my_imputer = SimpleImputer(input_cols=['OCCUPATION_TYPE'], output_cols=['OCCUPATION_TYPE'] ,strategy='most_frequent')\n",
    "my_imputer.fit(snowpark_df)\n",
    "snowpark_df = my_imputer.transform(snowpark_df)\n",
    "snowpark_df.describe().show()"
   ]
  },
  {
   "attachments": {},
   "cell_type": "markdown",
   "id": "991beaa4",
   "metadata": {},
   "source": [
    "The missing value handling logic is converted in SQL to *iff(\"OCCUPATION_TYPE\" IS NULL, 'Laborers', \"OCCUPATION_TYPE\") AS \"OCCUPATION_TYPE\"*"
   ]
  },
  {
   "cell_type": "code",
   "execution_count": null,
   "id": "bac12f72",
   "metadata": {},
   "outputs": [],
   "source": [
    "print(snowpark_df.queries['queries'][0])"
   ]
  },
  {
   "attachments": {},
   "cell_type": "markdown",
   "id": "5b8d26f8",
   "metadata": {},
   "source": [
    "A DataFrame always has a schema with all columns and the data types for them"
   ]
  },
  {
   "cell_type": "code",
   "execution_count": null,
   "id": "13cca9d1",
   "metadata": {},
   "outputs": [],
   "source": [
    "snowpark_df.schema"
   ]
  },
  {
   "attachments": {},
   "cell_type": "markdown",
   "id": "5b2ae444",
   "metadata": {},
   "source": [
    "We can itirate through the schema to get the columns of specific data types"
   ]
  },
  {
   "cell_type": "code",
   "execution_count": null,
   "id": "17735cdb",
   "metadata": {},
   "outputs": [],
   "source": [
    "# Get all categorical columns\n",
    "categorical_types = [T.StringType]\n",
    "categorical_columns = [c.name for c in snowpark_df.schema.fields if type(c.datatype) in categorical_types]\n",
    "categorical_columns"
   ]
  },
  {
   "attachments": {},
   "cell_type": "markdown",
   "id": "e1c1ba4c",
   "metadata": {},
   "source": [
    "We can then use those to loop through and get the number of unique values"
   ]
  },
  {
   "cell_type": "code",
   "execution_count": null,
   "id": "682ae682",
   "metadata": {},
   "outputs": [],
   "source": [
    "# Number of unique values per categorical column\n",
    "unique_values = []\n",
    "for column in categorical_columns:\n",
    "    unique_values.append([column, snowpark_df.select(column).distinct().count()])\n",
    "pd.DataFrame(unique_values, columns=['COLUMN_NAME','NUM_UNIQUE_VALUES'])"
   ]
  },
  {
   "attachments": {},
   "cell_type": "markdown",
   "id": "bc3c3a6a",
   "metadata": {},
   "source": [
    "## Persist Transformations\n",
    "\n",
    "If we want to save the changes we can either save it as a table, meaning the SQL generated by the DataFrame is executed and the result is stored in a table or as a view where the DataFrame SQL will be the definition of the view.  \n",
    "**save_as_table** saves the result in a table, if **mode='overwrite'** then it will also replace the data that is in it."
   ]
  },
  {
   "cell_type": "code",
   "execution_count": null,
   "id": "995c4a8d",
   "metadata": {},
   "outputs": [],
   "source": [
    "snowpark_df.write.save_as_table(table_name='MY_FIRST_ANALYSIS', mode='overwrite')\n",
    "session.table('MY_FIRST_ANALYSIS').show()"
   ]
  },
  {
   "cell_type": "code",
   "execution_count": null,
   "id": "a4dc8b69",
   "metadata": {},
   "outputs": [],
   "source": [
    "session.close()"
   ]
  }
 ],
 "metadata": {
  "kernelspec": {
   "display_name": "Python 3 (ipykernel)",
   "language": "python",
   "name": "python3"
  },
  "language_info": {
   "codemirror_mode": {
    "name": "ipython",
    "version": 3
   },
   "file_extension": ".py",
   "mimetype": "text/x-python",
   "name": "python",
   "nbconvert_exporter": "python",
   "pygments_lexer": "ipython3",
   "version": "3.9.17"
  }
 },
 "nbformat": 4,
 "nbformat_minor": 5
}
