{
 "cells": [
  {
   "attachments": {},
   "cell_type": "markdown",
   "id": "2e339e77",
   "metadata": {},
   "source": [
    "# DEMO: Hyperparameter Tuning via GridSearchCV"
   ]
  },
  {
   "attachments": {},
   "cell_type": "markdown",
   "id": "a7d72538",
   "metadata": {},
   "source": [
    "## Imports"
   ]
  },
  {
   "cell_type": "code",
   "execution_count": null,
   "id": "2cb04fd9",
   "metadata": {},
   "outputs": [],
   "source": [
    "from snowflake.snowpark.session import Session\n",
    "import snowflake.snowpark.functions as F\n",
    "import snowflake.snowpark.types as T\n",
    "\n",
    "from snowflake.ml.modeling.xgboost import XGBClassifier\n",
    "from snowflake.ml.modeling.model_selection import GridSearchCV\n",
    "\n",
    "import json\n",
    "import pandas as pd\n",
    "import seaborn as sns\n",
    "import matplotlib.pyplot as plt\n",
    "import os"
   ]
  },
  {
   "attachments": {},
   "cell_type": "markdown",
   "id": "11413743",
   "metadata": {},
   "source": [
    "## Create Snowpark Session"
   ]
  },
  {
   "cell_type": "code",
   "execution_count": null,
   "id": "04bad29b",
   "metadata": {},
   "outputs": [],
   "source": [
    "os.chdir('/Users/nicholasaverillo/Documents/MachineLearning/sfguide-getting-started-machine-learning/hol/')\n",
    "print(os.getcwd())\n",
    "with open('creds.json') as f:\n",
    "    connection_parameters = json.load(f)"
   ]
  },
  {
   "cell_type": "code",
   "execution_count": null,
   "id": "9cc080c0",
   "metadata": {},
   "outputs": [],
   "source": [
    "session = Session.builder.configs(connection_parameters).create()\n",
    "print(f\"Current Database and schema: {session.get_fully_qualified_current_schema()}\")\n",
    "print(f\"Current Warehouse: {session.get_current_warehouse()}\")"
   ]
  },
  {
   "attachments": {},
   "cell_type": "markdown",
   "id": "24d093ad",
   "metadata": {},
   "source": [
    "# Model Building"
   ]
  },
  {
   "cell_type": "markdown",
   "id": "107bbad5",
   "metadata": {},
   "source": [
    "Parameter-Tuning is computationally expensive. So we will use a Snowpark-Optimized Warehouse for better performance."
   ]
  },
  {
   "cell_type": "code",
   "execution_count": null,
   "id": "957a6c73",
   "metadata": {},
   "outputs": [],
   "source": [
    "session.use_warehouse('HOL_WH_HIGH_MEM')"
   ]
  },
  {
   "cell_type": "code",
   "execution_count": null,
   "id": "4df6c514",
   "metadata": {},
   "outputs": [],
   "source": [
    "train_sdf = session.table('CREDIT_RISK_PREPARED_BALANCED_TRAIN')\n",
    "test_sdf = session.table('CREDIT_RISK_PREPARED_BALANCED_TEST')"
   ]
  },
  {
   "cell_type": "code",
   "execution_count": null,
   "id": "442a5131",
   "metadata": {},
   "outputs": [],
   "source": [
    "feature_cols = train_sdf.columns\n",
    "feature_cols.remove('TARGET')\n",
    "feature_cols.remove('ID')\n",
    "target_col = 'TARGET'\n",
    "\n",
    "grid_search = GridSearchCV(\n",
    "    estimator=XGBClassifier(),\n",
    "    param_grid={\n",
    "        'n_estimators':[10,50,100],\n",
    "        'max_depth':[2,3,4]\n",
    "        },\n",
    "    n_jobs = -1,\n",
    "    input_cols = feature_cols,\n",
    "    label_cols = target_col,\n",
    "    output_cols = 'PREDICTION',\n",
    "    scoring=\"f1\",\n",
    "    )\n",
    "\n",
    "grid_search.fit(train_sdf)"
   ]
  },
  {
   "attachments": {},
   "cell_type": "markdown",
   "id": "55c233ba",
   "metadata": {},
   "source": [
    "## Analyze GridSearch Results"
   ]
  },
  {
   "cell_type": "code",
   "execution_count": null,
   "id": "46794ab5",
   "metadata": {},
   "outputs": [],
   "source": [
    "# Analyze grid search results\n",
    "gs_results = grid_search.to_sklearn().cv_results_\n",
    "n_estimators_val = []\n",
    "max_depth_val = []\n",
    "for param_dict in gs_results[\"params\"]:\n",
    "    n_estimators_val.append(param_dict[\"n_estimators\"])\n",
    "    max_depth_val.append(param_dict[\"max_depth\"])\n",
    "\n",
    "f1_val = gs_results[\"mean_test_score\"]\n",
    "gs_results_df = pd.DataFrame(data={\"n_estimators\":n_estimators_val,\n",
    "                                   \"max_depth\":max_depth_val,\n",
    "                                   'f1_val':f1_val})\n",
    "sns.relplot(data=gs_results_df, x=\"max_depth\", y=\"f1_val\", hue=\"n_estimators\", kind='line')\n",
    "plt.show()"
   ]
  }
 ],
 "metadata": {
  "kernelspec": {
   "display_name": "Python 3 (ipykernel)",
   "language": "python",
   "name": "python3"
  },
  "language_info": {
   "codemirror_mode": {
    "name": "ipython",
    "version": 3
   },
   "file_extension": ".py",
   "mimetype": "text/x-python",
   "name": "python",
   "nbconvert_exporter": "python",
   "pygments_lexer": "ipython3",
   "version": "3.9.17"
  }
 },
 "nbformat": 4,
 "nbformat_minor": 5
}
