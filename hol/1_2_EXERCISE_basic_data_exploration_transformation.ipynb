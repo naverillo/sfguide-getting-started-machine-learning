{
 "cells": [
  {
   "attachments": {},
   "cell_type": "markdown",
   "id": "3b648ee8",
   "metadata": {},
   "source": [
    "# EXERCISE: Data Exploration and Feature Engineering"
   ]
  },
  {
   "attachments": {},
   "cell_type": "markdown",
   "id": "1ed15903",
   "metadata": {},
   "source": [
    "## Imports"
   ]
  },
  {
   "cell_type": "code",
   "execution_count": null,
   "id": "7410ce0d",
   "metadata": {},
   "outputs": [],
   "source": [
    "from snowflake.snowpark.session import Session\n",
    "import snowflake.snowpark.functions as F\n",
    "\n",
    "import json\n",
    "import os"
   ]
  },
  {
   "attachments": {},
   "cell_type": "markdown",
   "id": "a1f95920",
   "metadata": {},
   "source": [
    "## Create Snowpark Session"
   ]
  },
  {
   "cell_type": "code",
   "execution_count": null,
   "id": "d2c8fbaa",
   "metadata": {},
   "outputs": [],
   "source": [
    "os.chdir('/Users/nicholasaverillo/Documents/MachineLearning/sfguide-getting-started-machine-learning/hol/')\n",
    "print(os.getcwd())\n",
    "with open('creds.json') as f:\n",
    "    connection_parameters = json.load(f)"
   ]
  },
  {
   "cell_type": "code",
   "execution_count": null,
   "id": "49090e02",
   "metadata": {},
   "outputs": [],
   "source": [
    "session = Session.builder.configs(connection_parameters).create()\n",
    "print(f\"Current Database and schema: {session.get_fully_qualified_current_schema()}\")\n",
    "print(f\"Current Warehouse: {session.get_current_warehouse()}\")"
   ]
  },
  {
   "cell_type": "code",
   "execution_count": null,
   "id": "4988afb4",
   "metadata": {},
   "outputs": [],
   "source": [
    "snowpark_df = session.table('APPLICATION_RECORD')"
   ]
  },
  {
   "cell_type": "code",
   "execution_count": null,
   "id": "739ea741",
   "metadata": {},
   "outputs": [],
   "source": [
    "snowpark_df.limit(10).to_pandas()"
   ]
  },
  {
   "attachments": {},
   "cell_type": "markdown",
   "id": "41e91eab",
   "metadata": {},
   "source": [
    "# EXERCISE: Answer the following Questions"
   ]
  },
  {
   "cell_type": "code",
   "execution_count": null,
   "id": "e9e1a538",
   "metadata": {},
   "outputs": [],
   "source": [
    "# How many variables (columns) does the dataset have?\n"
   ]
  },
  {
   "cell_type": "code",
   "execution_count": null,
   "id": "c925169f",
   "metadata": {},
   "outputs": [],
   "source": [
    "# How many rows does the dataset have?\n"
   ]
  },
  {
   "cell_type": "code",
   "execution_count": null,
   "id": "6aab7e41",
   "metadata": {},
   "outputs": [],
   "source": [
    "# What is the average income?\n"
   ]
  },
  {
   "cell_type": "code",
   "execution_count": null,
   "id": "88ddd511",
   "metadata": {},
   "outputs": [],
   "source": [
    "# How many people are Single?\n"
   ]
  },
  {
   "attachments": {},
   "cell_type": "markdown",
   "id": "7c1c4618",
   "metadata": {},
   "source": [
    "# EXCERCISE: Create / Drop Features"
   ]
  },
  {
   "cell_type": "code",
   "execution_count": null,
   "id": "98744eca",
   "metadata": {},
   "outputs": [],
   "source": [
    "# Create a new feature containing the years of employment\n",
    "# Formula: Absolute Value of DAYS_EMPLOYED divided by 365 days rounded down\n"
   ]
  },
  {
   "cell_type": "code",
   "execution_count": null,
   "id": "a297a122",
   "metadata": {},
   "outputs": [],
   "source": [
    "# Drop the variable DAYS_EMPLOYED\n"
   ]
  },
  {
   "cell_type": "code",
   "execution_count": null,
   "id": "4df45ba0",
   "metadata": {},
   "outputs": [],
   "source": [
    "session.close()"
   ]
  }
 ],
 "metadata": {
  "kernelspec": {
   "display_name": "Python 3 (ipykernel)",
   "language": "python",
   "name": "python3"
  },
  "language_info": {
   "codemirror_mode": {
    "name": "ipython",
    "version": 3
   },
   "file_extension": ".py",
   "mimetype": "text/x-python",
   "name": "python",
   "nbconvert_exporter": "python",
   "pygments_lexer": "ipython3",
   "version": "3.9.17"
  }
 },
 "nbformat": 4,
 "nbformat_minor": 5
}
