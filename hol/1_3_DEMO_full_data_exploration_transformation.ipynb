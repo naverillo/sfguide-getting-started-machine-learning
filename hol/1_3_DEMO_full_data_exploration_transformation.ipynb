{
 "cells": [
  {
   "attachments": {},
   "cell_type": "markdown",
   "id": "3b648ee8",
   "metadata": {},
   "source": [
    "# DEMO: Data Exploration and Feature Engineering"
   ]
  },
  {
   "attachments": {},
   "cell_type": "markdown",
   "id": "1ed15903",
   "metadata": {},
   "source": [
    "## Imports"
   ]
  },
  {
   "cell_type": "code",
   "execution_count": null,
   "id": "7410ce0d",
   "metadata": {},
   "outputs": [],
   "source": [
    "from snowflake.snowpark.session import Session\n",
    "import snowflake.snowpark.functions as F\n",
    "import snowflake.snowpark.types as T\n",
    "from snowflake.ml.modeling.preprocessing import *\n",
    "\n",
    "import json\n",
    "import pandas as pd\n",
    "import os"
   ]
  },
  {
   "attachments": {},
   "cell_type": "markdown",
   "id": "a1f95920",
   "metadata": {},
   "source": [
    "## Create Snowpark Session"
   ]
  },
  {
   "cell_type": "code",
   "execution_count": null,
   "id": "d2c8fbaa",
   "metadata": {},
   "outputs": [],
   "source": [
    "os.chdir('/Users/nicholasaverillo/Documents/MachineLearning/sfguide-getting-started-machine-learning/hol/')\n",
    "print(os.getcwd())\n",
    "with open('creds.json') as f:\n",
    "    connection_parameters = json.load(f)"
   ]
  },
  {
   "cell_type": "code",
   "execution_count": null,
   "id": "49090e02",
   "metadata": {},
   "outputs": [],
   "source": [
    "session = Session.builder.configs(connection_parameters).create()\n",
    "print(f\"Current Database and schema: {session.get_fully_qualified_current_schema()}\")\n",
    "print(f\"Current Warehouse: {session.get_current_warehouse()}\")"
   ]
  },
  {
   "attachments": {},
   "cell_type": "markdown",
   "id": "fd745008",
   "metadata": {},
   "source": [
    "## Explore and Prepare Data\n",
    "We will use two tables, APPLICATION_RECORD and CREDIT_RECORD, for creating the data set needed for training our model."
   ]
  },
  {
   "cell_type": "code",
   "execution_count": null,
   "id": "2242ced2",
   "metadata": {},
   "outputs": [],
   "source": [
    "# Creating a Snowpark DataFrame\n",
    "application_record_sdf = session.table('APPLICATION_RECORD')\n",
    "credit_record_sdf = session.table('CREDIT_RECORD')"
   ]
  },
  {
   "attachments": {},
   "cell_type": "markdown",
   "id": "f2be07e3",
   "metadata": {},
   "source": [
    "Start with APPLICATION_RECORD"
   ]
  },
  {
   "cell_type": "code",
   "execution_count": null,
   "id": "57c73d02",
   "metadata": {},
   "outputs": [],
   "source": [
    "# How many records do we have?\n",
    "application_record_sdf.count()"
   ]
  },
  {
   "attachments": {},
   "cell_type": "markdown",
   "id": "399d3874",
   "metadata": {},
   "source": [
    "### Duplicate Removal\n",
    "Check if we have duplicated records in the ID column."
   ]
  },
  {
   "cell_type": "code",
   "execution_count": null,
   "id": "8f236685",
   "metadata": {},
   "outputs": [],
   "source": [
    "duplicates_sdf = application_record_sdf.group_by('ID').agg(F.count(('ID'))).filter(F.col('COUNT(ID)') > 1)\n",
    "print('Number Duplicates:', duplicates_sdf.count())"
   ]
  },
  {
   "attachments": {},
   "cell_type": "markdown",
   "id": "a4a0c268",
   "metadata": {},
   "source": [
    "Use the **drop_duplicates** to remove duplicated rows"
   ]
  },
  {
   "cell_type": "code",
   "execution_count": null,
   "id": "98a1205b",
   "metadata": {},
   "outputs": [],
   "source": [
    "application_record_sdf = application_record_sdf.drop_duplicates('ID')\n",
    "application_record_sdf.count()"
   ]
  },
  {
   "attachments": {},
   "cell_type": "markdown",
   "id": "7ec5d998",
   "metadata": {},
   "source": [
    "### Simple Statistics\n",
    "Obtaining simple statistics per column - why are some statistics missing?  \n",
    "Can you already identify problems in our data?  \n",
    "For example count always return the number of non null records.  \n",
    "**Hint:** ID variables are useless for ML models (but we need it for joining)  \n",
    "**Hint:** Missing values for OCCUPATION_TYPE  \n",
    "**Hint:** Max Value for DAYS_EMPLOYED seems wrong  "
   ]
  },
  {
   "cell_type": "code",
   "execution_count": null,
   "id": "567aff66",
   "metadata": {},
   "outputs": [],
   "source": [
    "application_record_sdf.describe().show()"
   ]
  },
  {
   "attachments": {},
   "cell_type": "markdown",
   "id": "8fcd6862",
   "metadata": {},
   "source": [
    "### Missing Value Imputation\n",
    "The describe output show that we have missing values in OCCUPATION_TYPE, it's count are less (304317) than the total count (438557)  \n",
    "We will use the **fillna** ,ethod to replace missing values in OCCUPATION_TYPE with 'OTHER', since they are so many we creates a new category for it."
   ]
  },
  {
   "cell_type": "code",
   "execution_count": null,
   "id": "b292ddf9",
   "metadata": {},
   "outputs": [],
   "source": [
    "application_record_sdf = application_record_sdf.fillna(value='OTHER', subset=['OCCUPATION_TYPE'])\n",
    "application_record_sdf.describe().show()"
   ]
  },
  {
   "attachments": {},
   "cell_type": "markdown",
   "id": "8ab67b19",
   "metadata": {},
   "source": [
    "### Finding constant variables\n",
    "How many distinct values do we have per column?  \n",
    "**Hint:** Constant values are probably irrelevant  \n",
    "**Hint:** Variables with many different values can be problematic"
   ]
  },
  {
   "cell_type": "code",
   "execution_count": null,
   "id": "724dd8a1",
   "metadata": {},
   "outputs": [],
   "source": [
    "unique_values = []\n",
    "for column in application_record_sdf.columns:\n",
    "    unique_values.append([column, application_record_sdf.select(column).distinct().count()])\n",
    "pd.DataFrame(unique_values, columns=['COLUMN_NAME','NUM_UNIQUE_VALUES'])"
   ]
  },
  {
   "attachments": {},
   "cell_type": "markdown",
   "id": "4b361107",
   "metadata": {},
   "source": [
    "FLAG_MOBIL has only one value so it will not provide any value, so we will drop it from our dataframe."
   ]
  },
  {
   "cell_type": "code",
   "execution_count": null,
   "id": "b004a868",
   "metadata": {},
   "outputs": [],
   "source": [
    "application_record_sdf = application_record_sdf.drop('FLAG_MOBIL')"
   ]
  },
  {
   "attachments": {},
   "cell_type": "markdown",
   "id": "c232616e",
   "metadata": {},
   "source": [
    "### Response Variable (Target)\n",
    "\n",
    "The target variable (column) is in the credit_record_sdf, CREDIT_RECORD, DataFrame and we want to join it with our application_record_sdf dataFrame. Before doing that we will transform the target column.\n",
    "\n",
    "The traget column, Status, has multiple values which has the following meanings:<br>\n",
    "0: 1-29 days past due<br>\n",
    "1: 30-59 days past due<br>\n",
    "2: 60-89 days overdue<br>\n",
    "3: 90-119 days overdue<br>\n",
    "4: 120-149 days overdue<br>\n",
    "5: Overdue or bad debts, write-offs for more than 150 days<br>\n",
    "C: paid off that month<br>\n",
    "X: No loan for the month<br>\n",
    "\n",
    "In this case we are only intersted to flag customers as either high-risk or low-risk. We have defined that a customer is high-risk (1) if during any month they are late on payments by 60 days or more.<br>\n",
    "All other customers are low-risk (0).\n",
    "\n",
    "We start by checking how the distribution is among the diffrent status codes."
   ]
  },
  {
   "cell_type": "code",
   "execution_count": null,
   "id": "5e765eec",
   "metadata": {},
   "outputs": [],
   "source": [
    "credit_record_sdf.group_by('STATUS').count().sort('STATUS').show()"
   ]
  },
  {
   "attachments": {},
   "cell_type": "markdown",
   "id": "8c78128a",
   "metadata": {},
   "source": [
    "We will create a new column, TARGET, that will have a 1 for high-risk and 0 for low-risk.\n",
    "\n",
    "Since credit_record_sdf is on month level we will aggregate and count the number of late payments by customer, ID, and if they have at least one late payment we set TARGET to 1 otherwise to 0."
   ]
  },
  {
   "cell_type": "code",
   "execution_count": null,
   "id": "1fb73f51",
   "metadata": {},
   "outputs": [],
   "source": [
    "cpunt = credit_record_sdf.group_by('ID')\\\n",
    "                        .agg(F.sum(F.iff(F.col('STATUS').in_(['2', '3','4','5']), 1, 0)).as_(\"CNT_LATE\"))\\\n",
    "                        .with_column('TARGET', F.when(F.col('CNT_LATE') > 0, 1).otherwise(0)).drop(\"CNT_LATE\")\n",
    "\n",
    "cpunt.show()"
   ]
  },
  {
   "attachments": {},
   "cell_type": "markdown",
   "id": "68100059",
   "metadata": {},
   "source": [
    "Check the target distribution  \n",
    "**Hint**: Highly imbalanced target variables can be problematic"
   ]
  },
  {
   "cell_type": "code",
   "execution_count": null,
   "id": "212c2392",
   "metadata": {},
   "outputs": [],
   "source": [
    "cpunt.group_by('TARGET').agg(F.count('TARGET')).show()"
   ]
  },
  {
   "attachments": {},
   "cell_type": "markdown",
   "id": "668c30ff",
   "metadata": {},
   "source": [
    "Join cpunt with application_record_sdf"
   ]
  },
  {
   "cell_type": "code",
   "execution_count": null,
   "id": "05e2e118",
   "metadata": {},
   "outputs": [],
   "source": [
    "application_record_sdf = application_record_sdf.join(cpunt, using_columns='ID', join_type='inner')\n",
    "\n",
    "application_record_sdf.count()"
   ]
  },
  {
   "cell_type": "code",
   "execution_count": null,
   "id": "b84a77a5",
   "metadata": {},
   "outputs": [],
   "source": [
    "application_record_sdf.show()"
   ]
  },
  {
   "attachments": {},
   "cell_type": "markdown",
   "id": "39a059e3",
   "metadata": {},
   "source": [
    "## Feature Engineering\n",
    "For many ML algorithms we need numeric data, so we'll encode our variables.<br>\n",
    "\n",
    "We will apply the following techniques:  \n",
    "| COLUMN              | TECHNIQUE                                              |\n",
    "|---------------------|--------------------------------------------------------|\n",
    "| FLAG_OWN_CAR        | OrdinalEncoder                                         |\n",
    "| FLAG_OWN_REALTY     | OrdinalEncoder                                         |\n",
    "| AMT_INCOME_TOTAL    | StandardScaler                                         |\n",
    "| CODE_GENDER         | OneHotEncoder                                          |\n",
    "| NAME_INCOME_TYPE    | OneHotEncoder                                          |\n",
    "| NAME_EDUCATION_TYPE | OneHotEncoder                                          |\n",
    "| NAME_FAMILY_STATUS  | OneHotEncoder                                          |\n",
    "| NAME_HOUSING_TYPE   | OneHotEncoder                                          |\n",
    "| CNT_CHILDREN        | Custom Categories + OneHotEncoder                      |\n",
    "| CNT_FAM_MEMBERS     | Custom Categories + OneHotEncoder                      |\n",
    "| OCCUPATION_TYPE     | Custom Categories + OneHotEncoder                      |\n",
    "| DAYS_BIRTH          | Transform to Years + StandardScaler                    |\n",
    "| DAYS_EMPLOYED       | Transform to Years + Drop Outlier + StandardScaler     |\n",
    "| FLAG_WORK_PHONE     | Drop                                                   |\n",
    "| FLAG_PHONE          | Drop                                                   |\n",
    "| FLAG_EMAIL          | Drop                                                   |"
   ]
  },
  {
   "attachments": {},
   "cell_type": "markdown",
   "id": "171e11d9",
   "metadata": {},
   "source": [
    "### Children  \n",
    "Before we decide how many categorise we want for children we check the distribution of the existing values, we also check the number of high-risk customers."
   ]
  },
  {
   "cell_type": "code",
   "execution_count": null,
   "id": "bfceb0de",
   "metadata": {},
   "outputs": [],
   "source": [
    "# High Risk Ratio for CNT_CHILDREN\n",
    "var_analysis = application_record_sdf.group_by('CNT_CHILDREN')\n",
    "var_analysis = var_analysis.agg([F.count('CNT_CHILDREN').as_('COUNT'),\n",
    "                                 F.sum('TARGET').as_('HIGH_RISK')])\n",
    "var_analysis.sort('CNT_CHILDREN').show()"
   ]
  },
  {
   "attachments": {},
   "cell_type": "markdown",
   "id": "5e9776df",
   "metadata": {},
   "source": [
    "Based on above we will create a new variable/column CNT_CHILDREN_IND with values 0, 1 or 2More and then drop the CNT_CHILDREN column form the dataframe."
   ]
  },
  {
   "cell_type": "code",
   "execution_count": null,
   "id": "b5e05ace",
   "metadata": {},
   "outputs": [],
   "source": [
    "application_record_sdf = application_record_sdf.with_column('CNT_CHILDREN_IND',\n",
    "                                                            F.iff(F.col('CNT_CHILDREN') >= 2,\n",
    "                                                                  '2More',\n",
    "                                                                  F.to_varchar(F.col('CNT_CHILDREN'))\n",
    "                                                                 )\n",
    "                                                           )\n",
    "application_record_sdf = application_record_sdf.drop('CNT_CHILDREN')\n",
    "application_record_sdf[['ID', 'CNT_CHILDREN_IND']].show()"
   ]
  },
  {
   "attachments": {},
   "cell_type": "markdown",
   "id": "b5aa79fb",
   "metadata": {},
   "source": [
    "### Family Members\n",
    "We use the same approach as we did for number of children."
   ]
  },
  {
   "cell_type": "code",
   "execution_count": null,
   "id": "261296ae",
   "metadata": {},
   "outputs": [],
   "source": [
    "var_analysis = application_record_sdf.group_by('CNT_FAM_MEMBERS')\n",
    "var_analysis = var_analysis.agg([F.count('CNT_FAM_MEMBERS').as_('COUNT'),\n",
    "                                 F.sum('TARGET').as_('HIGH_RISK')])\n",
    "var_analysis.sort('CNT_FAM_MEMBERS').show()\n",
    "\n",
    "# Creating a new variable CNT_FAM_MEMBERS_IND with values 0, 1, 2 or 3More\n",
    "application_record_sdf = application_record_sdf.with_column('CNT_FAM_MEMBERS_IND',\n",
    "                                                            F.iff(F.col('CNT_FAM_MEMBERS') >= 3,\n",
    "                                                                  '3More',\n",
    "                                                                  F.to_varchar(F.col('CNT_FAM_MEMBERS'))\n",
    "                                                                 )\n",
    "                                                           )\n",
    "application_record_sdf = application_record_sdf.drop('CNT_FAM_MEMBERS')\n",
    "\n",
    "application_record_sdf[['ID', 'CNT_FAM_MEMBERS_IND']].show()"
   ]
  },
  {
   "attachments": {},
   "cell_type": "markdown",
   "id": "f8379a5e",
   "metadata": {},
   "source": [
    "### Days Birth\n",
    "The age variable is very cryptic and hard to interpret.  \n",
    "Let's calculate the customer age in years.  \n",
    "\n",
    "Explanation of DAYS_BIRTH Variable:  \n",
    "Counts backwards from current day (0), -1 means yesterday\n"
   ]
  },
  {
   "cell_type": "code",
   "execution_count": null,
   "id": "7fa5667c",
   "metadata": {},
   "outputs": [],
   "source": [
    "# Calculate the age given the number of days\n",
    "application_record_sdf = application_record_sdf.with_column('AGE', F.abs(F.floor(F.col('DAYS_BIRTH') / 365)))\n",
    "application_record_sdf = application_record_sdf.drop('DAYS_BIRTH')\n",
    "\n",
    "# Age Distribution\n",
    "grouped_ages_df = application_record_sdf.group_by('AGE').agg(F.count('AGE')).sort('AGE')\n",
    "grouped_ages_df.to_pandas().plot.bar(x='AGE', y='COUNT(AGE)', figsize=(10,2), title='Age Distribution')"
   ]
  },
  {
   "attachments": {},
   "cell_type": "markdown",
   "id": "3225a9ff",
   "metadata": {},
   "source": [
    "### Days Employment"
   ]
  },
  {
   "cell_type": "code",
   "execution_count": null,
   "id": "d5a4ce19",
   "metadata": {},
   "outputs": [],
   "source": [
    "# Calculate the workyears given the number of days of employment\n",
    "application_record_sdf = application_record_sdf.with_column('WORKYEAR', F.abs(F.floor(F.col('DAYS_EMPLOYED') / 365)))\n",
    "application_record_sdf = application_record_sdf.drop('DAYS_EMPLOYED')\n",
    "grouped_workyears_df = application_record_sdf.group_by('WORKYEAR').agg(F.count('WORKYEAR')).sort('WORKYEAR').to_pandas()\n",
    "grouped_workyears_df.plot.bar(x='WORKYEAR', figsize=(10,2))\n",
    "\n",
    "# Lets filter out people with 1000 years of employment ...\n",
    "application_record_sdf = application_record_sdf.filter(F.col('WORKYEAR') < 50)"
   ]
  },
  {
   "attachments": {},
   "cell_type": "markdown",
   "id": "a673e237",
   "metadata": {},
   "source": [
    "### Occupation\n",
    "We do not need detailed level of occupation so we will group it into four diffrent categories, LABOURWORK, OFFICEWORK, HIGHTECHWORK and OTHER"
   ]
  },
  {
   "cell_type": "code",
   "execution_count": null,
   "id": "e0ae6250",
   "metadata": {},
   "outputs": [],
   "source": [
    "var_analysis = application_record_sdf.group_by('OCCUPATION_TYPE').agg(F.count('OCCUPATION_TYPE').as_('COUNT'))\n",
    "var_analysis = var_analysis.sort('COUNT').show()\n",
    "\n",
    "# Occupation Type\n",
    "labour_work = ['Cleaning staff',\n",
    "               'Cooking staff',\n",
    "               'Drivers',\n",
    "               'Laborers',\n",
    "               'Low-skill Laborers',\n",
    "               'Security staff',\n",
    "               'Waiters/barmen staff']\n",
    "\n",
    "office_work = ['Accountants',\n",
    "               'Core staff',\n",
    "               'HR staff',\n",
    "               'Medicine staff',\n",
    "               'Private service staff',\n",
    "               'Realty agents',\n",
    "               'Sales staff',\n",
    "               'Secretaries']\n",
    "\n",
    "hightech_work = ['Managers',\n",
    "                 'High skill tech staff',\n",
    "                 'IT staff']\n",
    "\n",
    "application_record_sdf = application_record_sdf.with_column('OCCUPATION_TYPE',\n",
    "                                                            F.iff(F.col('OCCUPATION_TYPE').in_(labour_work), 'LABOURWORK',\n",
    "                                                                 F.iff(F.col('OCCUPATION_TYPE').in_(office_work), 'OFFICEWORK',\n",
    "                                                                      F.iff(F.col('OCCUPATION_TYPE').in_(hightech_work), 'HIGHTECHWORK', 'OTHER')\n",
    "                                                                      )\n",
    "                                                                 )\n",
    "                                                           )\n",
    "application_record_sdf[['OCCUPATION_TYPE']].show()"
   ]
  },
  {
   "attachments": {},
   "cell_type": "markdown",
   "id": "8b7436dd",
   "metadata": {},
   "source": [
    "## SnowML Preprocessing"
   ]
  },
  {
   "cell_type": "code",
   "execution_count": null,
   "id": "33e55255",
   "metadata": {},
   "outputs": [],
   "source": [
    "application_record_sdf = application_record_sdf.drop(['FLAG_WORK_PHONE','FLAG_PHONE','FLAG_EMAIL'])"
   ]
  },
  {
   "cell_type": "code",
   "execution_count": null,
   "id": "6385ad52",
   "metadata": {},
   "outputs": [],
   "source": [
    "oe_cols = ['FLAG_OWN_CAR', 'FLAG_OWN_REALTY']\n",
    "\n",
    "my_oe_encoder = OrdinalEncoder(input_cols=oe_cols, output_cols=oe_cols)\n",
    "my_oe_encoder.fit(application_record_sdf)\n",
    "application_record_sdf = my_oe_encoder.transform(application_record_sdf)"
   ]
  },
  {
   "cell_type": "code",
   "execution_count": null,
   "id": "a5034017",
   "metadata": {},
   "outputs": [],
   "source": [
    "# Prepare values for One-Hot-Encoding\n",
    "ohe_cols = ['CODE_GENDER','NAME_INCOME_TYPE', 'NAME_EDUCATION_TYPE', 'NAME_FAMILY_STATUS', 'CNT_CHILDREN_IND', 'CNT_FAM_MEMBERS_IND', 'OCCUPATION_TYPE','NAME_HOUSING_TYPE']\n",
    "\n",
    "def fix_values(columnn):\n",
    "    return F.upper(F.regexp_replace(F.col(columnn), '[^a-zA-Z0-9]+', '_'))\n",
    "\n",
    "for col in ohe_cols:\n",
    "    application_record_sdf = application_record_sdf.with_column(col, fix_values(col))\n",
    "\n",
    "my_ohe_encoder = OneHotEncoder(input_cols=ohe_cols, output_cols=ohe_cols, drop_input_cols=True)\n",
    "my_ohe_encoder.fit(application_record_sdf)\n",
    "application_record_sdf = my_ohe_encoder.transform(application_record_sdf)"
   ]
  },
  {
   "cell_type": "code",
   "execution_count": null,
   "id": "5f8d0cf5",
   "metadata": {},
   "outputs": [],
   "source": [
    "scaler_cols = ['AMT_INCOME_TOTAL', 'AGE', 'WORKYEAR']\n",
    "\n",
    "my_scaler = StandardScaler(input_cols=scaler_cols, output_cols=scaler_cols)\n",
    "my_scaler.fit(application_record_sdf)\n",
    "application_record_sdf = my_scaler.transform(application_record_sdf)"
   ]
  },
  {
   "cell_type": "code",
   "execution_count": null,
   "id": "73ddfb03",
   "metadata": {},
   "outputs": [],
   "source": [
    "application_record_sdf.show()"
   ]
  },
  {
   "attachments": {},
   "cell_type": "markdown",
   "id": "37522d7a",
   "metadata": {},
   "source": [
    "We can now save the transformed data into a new table"
   ]
  },
  {
   "cell_type": "code",
   "execution_count": null,
   "id": "6d490980",
   "metadata": {},
   "outputs": [],
   "source": [
    "application_record_sdf.write.save_as_table(table_name='CREDIT_RISK_PREPARED', mode='overwrite')"
   ]
  },
  {
   "attachments": {},
   "cell_type": "markdown",
   "id": "eb7ad64f",
   "metadata": {},
   "source": [
    "# Synthetic Minority Oversampling Technique (SMOTE)\n",
    "https://github.com/scikit-learn-contrib/imbalanced-learn"
   ]
  },
  {
   "attachments": {},
   "cell_type": "markdown",
   "id": "70485380",
   "metadata": {},
   "source": [
    "<img src=\"data:image/png;base64,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\" style=\"max-width:80%; width: 80%\"/>"
   ]
  },
  {
   "cell_type": "code",
   "execution_count": null,
   "id": "09156afe",
   "metadata": {},
   "outputs": [],
   "source": [
    "# We have highly imbalanced data\n",
    "application_record_sdf.group_by('TARGET').count().show()"
   ]
  },
  {
   "attachments": {},
   "cell_type": "markdown",
   "id": "45620b74",
   "metadata": {},
   "source": [
    "Instead of pulling back the data localy we will create a Python Stored Procedure to do the sampling using the compute in Snowflake and save the result into a new table.\n",
    "\n",
    "In order to create a Python Stored Procedure we need to create a Snowflake internal stage."
   ]
  },
  {
   "cell_type": "code",
   "execution_count": null,
   "id": "21de1b91",
   "metadata": {},
   "outputs": [],
   "source": [
    "session.sql('CREATE OR REPLACE STAGE ML_PROCS').collect()\n",
    "pd.DataFrame(session.sql('SHOW STAGES').collect())"
   ]
  },
  {
   "cell_type": "code",
   "execution_count": null,
   "id": "9b84d879",
   "metadata": {},
   "outputs": [],
   "source": [
    "# This local Python-function will be registered as a Stored Procedure and runs in Snowflake\n",
    "def sproc_oversample_smote(session: Session,\n",
    "                           training_table: str,\n",
    "                           feature_cols: list,\n",
    "                           target_col: str,\n",
    "                           target_table: str) -> T.Variant:\n",
    "\n",
    "    # Loading data into pandas dataframe\n",
    "    local_training_data = session.table(training_table).to_pandas()\n",
    "\n",
    "    # Define features and label\n",
    "    X = local_training_data[feature_cols]\n",
    "    y = local_training_data[target_col]\n",
    "\n",
    "    # Oversample minority class via SMOTE\n",
    "    from imblearn.over_sampling import SMOTE\n",
    "    X_balance, y_balance = SMOTE().fit_resample(X,y)\n",
    "\n",
    "    # Combine return values into single pandas dataframe\n",
    "    X_balance[target_col] = y_balance\n",
    "\n",
    "    # Persist dataframe in Snowflake table\n",
    "    session.sql('DROP TABLE IF EXISTS {}'.format(target_table)).collect()\n",
    "    session.write_pandas(X_balance, table_name=target_table, auto_create_table=True)\n",
    "\n",
    "    # Getting model coefficients\n",
    "    return \"Successfully oversampled\""
   ]
  },
  {
   "attachments": {},
   "cell_type": "markdown",
   "id": "b69672f5",
   "metadata": {},
   "source": [
    "Registering the function as a Stored Procedure. By pinning the version numbers of the the third-party python packages we makes sure that we use the same version in Snowflake as we have installed locally, otherwise the latest version avalible in the Anaconda Snowflake channel will be used"
   ]
  },
  {
   "cell_type": "code",
   "execution_count": null,
   "id": "8e9c5743",
   "metadata": {},
   "outputs": [],
   "source": [
    "sproc_oversample_smote = session.sproc.register(func=sproc_oversample_smote,\n",
    "                                                name='sproc_oversample_smote',\n",
    "                                                is_permanent=True,\n",
    "                                                replace=True,\n",
    "                                                stage_location='@ML_PROCS',\n",
    "                                                packages=[f'snowflake-snowpark-python',\n",
    "                                                          f'scikit-learn==1.2.2',\n",
    "                                                          f'imbalanced-learn==0.10.1'])"
   ]
  },
  {
   "cell_type": "code",
   "execution_count": null,
   "id": "6a764741",
   "metadata": {},
   "outputs": [],
   "source": [
    "training_table = 'CREDIT_RISK_PREPARED'\n",
    "# get feature columns\n",
    "feature_cols = application_record_sdf.columns\n",
    "feature_cols.remove('TARGET')\n",
    "target_col = 'TARGET'\n",
    "target_table = 'CREDIT_RISK_PREPARED_BALANCED'\n",
    "\n",
    "sproc_oversample_smote(\n",
    "    training_table,\n",
    "    feature_cols,\n",
    "    target_col,\n",
    "    target_table,\n",
    "    session=session\n",
    "    )"
   ]
  },
  {
   "cell_type": "code",
   "execution_count": null,
   "id": "dee18f0c",
   "metadata": {},
   "outputs": [],
   "source": [
    "# Now our training data is balanced\n",
    "train_data_sdf = session.table('CREDIT_RISK_PREPARED_BALANCED')\n",
    "train_data_sdf.group_by('TARGET').count().show()"
   ]
  },
  {
   "cell_type": "code",
   "execution_count": null,
   "id": "02c1803e",
   "metadata": {},
   "outputs": [],
   "source": [
    "session.close()"
   ]
  }
 ],
 "metadata": {
  "kernelspec": {
   "display_name": "Python 3 (ipykernel)",
   "language": "python",
   "name": "python3"
  },
  "language_info": {
   "codemirror_mode": {
    "name": "ipython",
    "version": 3
   },
   "file_extension": ".py",
   "mimetype": "text/x-python",
   "name": "python",
   "nbconvert_exporter": "python",
   "pygments_lexer": "ipython3",
   "version": "3.9.17"
  }
 },
 "nbformat": 4,
 "nbformat_minor": 5
}
